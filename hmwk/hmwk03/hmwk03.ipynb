{
 "cells": [
  {
   "cell_type": "markdown",
   "metadata": {},
   "source": [
    "# Homework 3: Random Variables and Their Distributions\n",
    "***\n",
    "\n",
    "**Name**: Samuel Cuthbertson\n",
    "\n",
    "**Section**: 001\n",
    "***\n",
    "\n",
    "This assignment is due on Moodle by **5pm on Friday October 13th**. Your solutions to theoretical questions should be done in Markdown/MathJax directly below the associated question.  Your solutions to computational questions should include any specified Python code and results as well as written commentary on your conclusions.  Remember that you are encouraged to discuss the problems with your instructors and classmates, but **you must write all code and solutions on your own**.  For a refresher on the course **Collaboration Policy** click [here](https://github.com/chrisketelsen/csci3022/blob/master/resources/syllabus.md#collaboration-policy).  \n",
    "\n",
    "**NOTES**: \n",
    "\n",
    "- Do **NOT** load or use any Python packages that are not available in Anaconda 3.6. \n",
    "- Some problems with code may be autograded.  If we provide a function API **do not** change it.  If we do not provide a function API then you're free to structure your code however you like. \n",
    "- Because you can technically evaluate notebook cells is a non-linear order, it's a good idea to do Cell $\\rightarrow$ Run All as a check before submitting your solutions.  That way if we need to run your code you will know that it will work as expected. \n",
    "- Submit only this Jupyter notebook to Moodle.  Do not compress it using tar, rar, zip, etc. "
   ]
  },
  {
   "cell_type": "code",
   "execution_count": 2,
   "metadata": {
    "collapsed": true,
    "scrolled": true
   },
   "outputs": [],
   "source": [
    "import pandas as pd\n",
    "import numpy as np\n",
    "import matplotlib.pylab as plt\n",
    "from scipy.special import binom\n",
    "%matplotlib inline"
   ]
  },
  {
   "cell_type": "markdown",
   "metadata": {},
   "source": [
    "### [15 points] Problem 1 \n",
    "***\n",
    "\n",
    "A young boy and an old woman are playing [tic tac toe](https://en.wikipedia.org/wiki/Tic-tac-toe). Unfortunately, the boy is too young to know the strategy and the old woman can't see the board well enough to enact a strategy. Nevertheless, they are content to play games with each other. The boy plays first and randomly places an X in an open square. The woman plays next, and randomly places an O in one of the remaining open squares. They each play randomly until someone gets three in a row, and then start a new game. Estimate, via simulation, the probability that the boy wins.\n",
    "\n",
    "**Note**: Part of the goal of this exercises is to give you more practice structuring a simulation. Definitely don't be afraid to write helper functions that get called from your main simulation routine. Things you might want to do modularly are (i) play a single game of tic-tac-toe, (ii) place an $X$ or an $O$ on an free square, or (iii) check if someone has one the game. This problem will not be autograded so feel free to get creative.  Just make sure to clearly display your results in code output and summarize things in Markdown. "
   ]
  },
  {
   "cell_type": "code",
   "execution_count": 3,
   "metadata": {},
   "outputs": [
    {
     "data": {
      "image/png": "[encoded data removed]",
      "text/plain": [
       "<matplotlib.figure.Figure at 0x7f2a07944048>"
      ]
     },
     "metadata": {},
     "output_type": "display_data"
    }
   ],
   "source": [
    "def fillfree(board, player):\n",
    "    haveNotFilled = True\n",
    "    while(haveNotFilled):\n",
    "        x = np.random.randint(3)\n",
    "        y = np.random.randint(3)\n",
    "        if(board[x][y] != \"X\" or board[x][y] != \"O\"):\n",
    "            board[x][y] = player\n",
    "            haveNotFilled = False\n",
    "            return board\n",
    "            \n",
    "def checkForWin(board):\n",
    "    for i in range(3): #Check Cols\n",
    "        if(board[0][i] == board[1][i] == board[2][i] != ''):\n",
    "            return board[0][i]\n",
    "    for i in range(3): #Check Rows\n",
    "        if(board[i][0] == board[i][1] == board[i][2] != ''):\n",
    "            return board[i][0]\n",
    "    if(board[0][0] == board[1][1] == board[2][2] != ''): # Check first diagonal\n",
    "        return board[0][0]\n",
    "    if(board[0][2] == board[1][1] == board[2][0] != ''): # Check second diagonal\n",
    "        return board[0][2]\n",
    "    else:\n",
    "        return False\n",
    "    \n",
    "def playGame():\n",
    "    board = np.empty((3, 3), dtype=np.unicode_)\n",
    "    hasNotWon = True\n",
    "    cA = 0\n",
    "    chars = [\"X\", \"O\"]\n",
    "    while(hasNotWon):\n",
    "        board = fillfree(board, chars[cA])\n",
    "        winner = checkForWin(board)\n",
    "        cA = abs(cA - 1)\n",
    "        if(winner != False):\n",
    "            hasNotWon = False\n",
    "            return winner\n",
    "            \n",
    "        \n",
    "def simGames(num_trials = 1000):\n",
    "    winner = np.array([playGame() for kk in range(num_trials)])\n",
    "    estimates = np.array([(np.sum(winner[:ii] == \"X\") / len(winner[:ii])) for ii in range(1,num_trials)])\n",
    "    \n",
    "    fig, ax = plt.subplots(figsize=(12,6))\n",
    "    ax.plot(estimates, color=\"steelblue\")\n",
    "    ax.set_title(\"Probability of Winning Given Playing First\", fontsize=20)\n",
    "    ax.set_xlabel(\"Number of Games\", fontsize=16)\n",
    "    ax.set_ylabel(\"Estimate of Probability\", fontsize=16)\n",
    "\n",
    "    ax.grid(True, alpha=0.25)\n",
    "    \n",
    "simGames(5000)"
   ]
  },
  {
   "cell_type": "markdown",
   "metadata": {},
   "source": [
    "### [20 points] Problem 2 \n",
    "***\n",
    "\n",
    "Let $X$ be the lifespan (in years) of a BF Goodrich Rugged Trail T/A tire under normal driving conditions, and suppose $X$ is described by the following probability density function: \n",
    "\n",
    "$$\n",
    "f(x) = \\left\\{ \n",
    "\\begin{array}{ll}\n",
    "\\dfrac{10}{cx^2} & 1 \\leq x \\leq 10 \\\\\n",
    "0 & \\textrm{otherwise}\n",
    "\\end{array}\n",
    "\\right.\n",
    "$$\n",
    "\n",
    "**Part A**: Determine the value of $c$ such that $f(x)$ is a valid density function. "
   ]
  },
  {
   "cell_type": "markdown",
   "metadata": {
    "collapsed": true
   },
   "source": [
    "Note that f(x) integrated from 1 to 10 equals the following, which must evaluate to 1 to be a valid CDF as f(x) is 0 for all other values of x:\n",
    "\n",
    "\\begin{align*} \n",
    "   \\Big(-\\frac{10}{c*10}\\Big) - \\Big(-\\frac{10}{c*1}\\Big) &= \\frac{9}{c} = 1 \\\\\n",
    "    &\\rightarrow \\mathbf{c = 9}\n",
    "\\end{align*}"
   ]
  },
  {
   "cell_type": "markdown",
   "metadata": {},
   "source": [
    "**Part B**: Compute the cumulative distribution function $F(y)$ for $X$. "
   ]
  },
  {
   "cell_type": "markdown",
   "metadata": {
    "collapsed": true
   },
   "source": [
    "**Letting $f^\\prime(x)$ be $f(x)$ with c = 9, the CDF is the integral of $f^\\prime(x)$.**\n",
    "$$\n",
    "\\int f^\\prime(x) = \\int \\left\\{ \n",
    "\\begin{array}{ll}\n",
    "\\dfrac{10}{9x^2} & 1 \\leq x \\leq 10 \\\\\n",
    "0 & \\textrm{otherwise}\n",
    "\\end{array}\n",
    "\\right.\n",
    "$$\n",
    "\n",
    "$$\n",
    "CDF(x) = \\left\\{ \n",
    "\\begin{array}{ll}\n",
    "\\dfrac{10(x - 1)}{9x} & 1 \\leq x \\leq 10 \\\\\n",
    "C & \\textrm{otherwise}\n",
    "\\end{array}\n",
    "\\right.\n",
    "$$"
   ]
  },
  {
   "cell_type": "markdown",
   "metadata": {},
   "source": [
    "**Part C**: Use the cdf you computed in **Part B** to find the probability that a single tire goes longer than 8 years without failing. "
   ]
  },
  {
   "cell_type": "markdown",
   "metadata": {
    "collapsed": true
   },
   "source": [
    "$$\n",
    "1 - CDF(8) = 1 - \\dfrac{10(8-1)}{9(8)} = \\frac{1}{36}\n",
    "$$"
   ]
  },
  {
   "cell_type": "markdown",
   "metadata": {},
   "source": [
    "**Part D**: Use the cdf you computed in **Part B** to determine the number of years within which $90\\%$ of all tires will need to be replaced. In other words, determine the 90th percentile of the distribution of $X$. "
   ]
  },
  {
   "cell_type": "markdown",
   "metadata": {
    "collapsed": true
   },
   "source": [
    "\\begin{align*}\n",
    "    .90 = CDF(X_{90}) &= \\frac{10(X_{90} - 1)}{9(X_{90})} \\\\\n",
    "                 .90 * 9(X_{90}) &= 10X_{90} - 10 \\\\\n",
    "                 8.1(X_{90}) - 10(X_{90}) &= -10 \\\\\n",
    "                 X_{90} &= \\frac{100}{19} = 5.263...\n",
    "\\end{align*}"
   ]
  },
  {
   "cell_type": "markdown",
   "metadata": {},
   "source": [
    "**Part E**: What is the probability that all four BF Goodrich Rugged Trail T/A tires on a vehicle last longer than 8 years without failing? "
   ]
  },
  {
   "cell_type": "markdown",
   "metadata": {
    "collapsed": true
   },
   "source": [
    "$$\n",
    "(1 - CDF(8))^4= \\frac{1}{36}\\frac{1}{36}\\frac{1}{36}\\frac{1}{36} = \\frac{1}{1679616}\n",
    "$$"
   ]
  },
  {
   "cell_type": "markdown",
   "metadata": {},
   "source": [
    "### [20 points] Problem 3 \n",
    "***\n",
    "\n",
    "Let $X =$ the leading digit of a randomly selected number from a large accounting\n",
    "ledger. For example, if we randomly draw the number \\$20,695, then $X = 2.$\n",
    "People who make up numbers to commit accounting fraud tend to give $X$ a\n",
    "(discrete) uniform distribution, i.e., $P(X = x) = \\frac{1}{9}$, for $x \\in \\{1, ..., 9\\}$. However,\n",
    "there is empirical evidence that suggests that _naturally occurring_ numbers (e.g.,\n",
    "numbers in a non-fraudulent accounting ledgers) have leading digits that do not\n",
    "follow a uniform distribution. Instead, they follow a distribution defined by the following probability mass function:\n",
    "\n",
    "$$\n",
    "f(x) = \\log_{10}\\left( \\frac{x+1}{x} \\right) \\quad \\textrm{for } x = 1, 2, \\ldots, 9\n",
    "$$"
   ]
  },
  {
   "cell_type": "markdown",
   "metadata": {},
   "source": [
    "**Part A**: Write a function pmf_natural that implements $f(x)$. Your function should take in an integer $x$ and return $f(x) = P(X = x)$.  Use your function to argue that $f(x)$ is a well-defined probability mass function. "
   ]
  },
  {
   "cell_type": "code",
   "execution_count": 4,
   "metadata": {},
   "outputs": [
    {
     "name": "stdout",
     "output_type": "stream",
     "text": [
      "Sum of f(x) for x in 1,2,...,9: 1.0\n"
     ]
    }
   ],
   "source": [
    "def pmf_natural(x):\n",
    "    return np.log10((x + 1) / x)\n",
    "\n",
    "count = 0\n",
    "for i in range(1,10):\n",
    "    count += pmf_natural(i)\n",
    "    \n",
    "print(\"Sum of f(x) for x in 1,2,...,9: {0:1.1f}\".format(count))"
   ]
  },
  {
   "cell_type": "markdown",
   "metadata": {},
   "source": [
    "**As f(x) is only defined on the interval 1 through 9, is discrete, and sums to 1 across that same interval, it is a well-defined probability mass function.**"
   ]
  },
  {
   "cell_type": "markdown",
   "metadata": {},
   "source": [
    "**Part B**: Use the function you wrote above to make stacked bar plots describing the pmf of the naturally occurring numbers as well as the discrete uniform distribution.  Make sure that the $x$- and $y$-limits on your plots are the same so that the two distributions are easy to compare. "
   ]
  },
  {
   "cell_type": "code",
   "execution_count": 5,
   "metadata": {},
   "outputs": [
    {
     "data": {
      "image/png": "[encoded data removed]",
      "text/plain": [
       "<matplotlib.figure.Figure at 0x7f2a0510d6d8>"
      ]
     },
     "metadata": {},
     "output_type": "display_data"
    }
   ],
   "source": [
    "distri = pmf_natural(np.arange(1,10))\n",
    "unifor = np.linspace(0.1, 0.1, num=9)\n",
    "ind = np.arange(1,10)\n",
    "width = 0.35\n",
    "\n",
    "\n",
    "fig, ax = plt.subplots(figsize=(12,6))\n",
    "ax.grid(True, alpha=0.25)\n",
    "plt.ylabel('Probability of First Digit',fontsize=16)\n",
    "plt.xlabel('First Digit',fontsize=16)\n",
    "plt.title('Probabilities for Given First Digits', fontsize=20)\n",
    "\n",
    "p0 = plt.bar(ind, unifor, width)\n",
    "p1 = plt.bar(ind, distri, width, bottom = unifor)\n",
    "plt.show()"
   ]
  },
  {
   "cell_type": "markdown",
   "metadata": {},
   "source": [
    "**Part C**: Write a function cdf_natural that implements the cumulative distribution function $F(y)$ for $X$ and use it to compute the probability that the leading digit in a number is at most 4 and at most 5. "
   ]
  },
  {
   "cell_type": "code",
   "execution_count": 6,
   "metadata": {},
   "outputs": [
    {
     "name": "stdout",
     "output_type": "stream",
     "text": [
      "Probability that leading digit is at most 4: 0.69897\n",
      "Probability that leading digit is at most 5: 0.77815\n"
     ]
    }
   ],
   "source": [
    "def cdf_natural(y):\n",
    "    count = 0\n",
    "    for i in range(1, y+1):\n",
    "        count += pmf_natural(i)\n",
    "    return count\n",
    "        \n",
    "most4 = cdf_natural(4)\n",
    "most5 = cdf_natural(5)\n",
    "print(\"Probability that leading digit is at most 4: {0:1.5f}\\nProbability that leading digit is at most 5: {1:1.5f}\".format(most4, most5))"
   ]
  },
  {
   "cell_type": "markdown",
   "metadata": {},
   "source": [
    "**Part D**: The data in tax_data.txt contains the taxable income for individuals in 1978. Use Pandas and the information from **Parts A-D** to determine whether or not the dataset is likely fraudulent.  In addition to code and any graphical summaries, make sure to clearly justify your conclusion in words. "
   ]
  },
  {
   "cell_type": "code",
   "execution_count": 20,
   "metadata": {},
   "outputs": [
    {
     "data": {
      "image/png": "[encoded data removed]",
      "text/plain": [
       "<matplotlib.figure.Figure at 0x7f2a01d49160>"
      ]
     },
     "metadata": {},
     "output_type": "display_data"
    }
   ],
   "source": [
    "df = pd.read_csv('tax_data.txt',sep='\\t')\n",
    "df = df[df > 0] # Filter out zeros\n",
    "df[\"First Digit\"] = df[\"Tax Incomes\"].dropna().astype(str).str[0].astype(int) # To string, substring, back to intW\n",
    "\n",
    "fig, ax = plt.subplots(figsize=(12,6))\n",
    "ax.grid(True, alpha=0.25)\n",
    "plt.ylabel('Number of Given First Digits',fontsize=16)\n",
    "plt.xlabel('First Digit',fontsize=16)\n",
    "df.hist(bins=[i for i in range(1,10)], column=\"First Digit\", ax=ax)\n",
    "plt.show()"
   ]
  },
  {
   "cell_type": "markdown",
   "metadata": {},
   "source": [
    "**This data is almost certainly fradulent, as the above histogram almost perfectly matches the fradulent distribution from our stacked bar plot earlier.**"
   ]
  },
  {
   "cell_type": "markdown",
   "metadata": {},
   "source": [
    "### [25 points] Problem 4 \n",
    "***\n",
    "\n",
    "You are a data-driven transportation engineer investigating the effect that a particular [vertical lift bridge](https://en.wikipedia.org/wiki/Vertical-lift_bridge) has on city traffic.  Every time a boat passes under the bridge, cars must stop while the bridge is raised to accommodate the height of the boat.  As both boat and car traffic increases, city planners are considering building a new taller bridge that will never impede the flow of traffic. As part of a larger simulation of traffic congestion, you need to decide how to model the arrival of boats at the bridge.  From your Intro to Data Science class you remember that the time _between_ independent arrivals are usually modeled by an Exponential distribution.  Finally, you have access to a report that says on average 20 boats cross under the bridge per day.\n",
    "\n",
    "Answer the following questions about this scenario. **Note** that for **Parts B-D** you should clearly express the computation you're doing with math, but feel free to do any fancy function evaluations with Python. \n",
    "\n",
    "**Part A**:  Assuming the between-boat times do in-fact follow $Exp(20)$, what distribution would you expect the **number** of boats that cross under the bridge on a given day to follow?  What are the parameter(s) of the distribution? "
   ]
  },
  {
   "cell_type": "markdown",
   "metadata": {
    "collapsed": true
   },
   "source": [
    "**Poisson, with lambda equal to 20.**"
   ]
  },
  {
   "cell_type": "markdown",
   "metadata": {},
   "source": [
    "**Part B**:  What is the probability that 25 boats cross under the bridge on a particular day?"
   ]
  },
  {
   "cell_type": "markdown",
   "metadata": {
    "collapsed": true
   },
   "source": [
    "$$\n",
    "P(Poisson(20) = 25) = \\frac{\\lambda^k e^{-\\lambda}}{k!} = 0.044587$$"
   ]
  },
  {
   "cell_type": "markdown",
   "metadata": {},
   "source": [
    "**Part C**:  What is the probability that 15 boats or fewer cross under the bridge on a particular day?"
   ]
  },
  {
   "cell_type": "markdown",
   "metadata": {
    "collapsed": true
   },
   "source": [
    "$$\n",
    "\\sum\\limits_{i = 0}^{i \\leq 15} P(Poisson(20) = i) = \\sum\\limits_{i = 0}^{15} \\frac{20^i e^{-20}}{i!} = 0.156513\n",
    "$$"
   ]
  },
  {
   "cell_type": "markdown",
   "metadata": {},
   "source": [
    "**Part D**: What is the probability that between 1 and 2 hours pass between two boat crossings? "
   ]
  },
  {
   "cell_type": "markdown",
   "metadata": {
    "collapsed": true
   },
   "source": [
    "** Note that the CDF of the exponential distribution is: $ CDF(t) = 1-e^{-\\lambda t}$ where here we have $\\lambda = 20$ from above.**\n",
    "\n",
    "$$\n",
    "CDF(\\frac{2}{24}) - CDF(\\frac{1}{24}) = (1-e^{-20 * 2/24}) - (1-e^{-20 * 1/24}) = 0.245722\n",
    "$$"
   ]
  },
  {
   "cell_type": "markdown",
   "metadata": {},
   "source": [
    "**Part F**: Write a function boat_count that takes as it's sole argument the rate parameter $\\lambda$ with units boats per day. Your function should simulate boat arrivals at the bridge by sampling between-boat times from $Exp(\\lambda)$ via Numpy's [random.exponential](https://docs.scipy.org/doc/numpy-1.13.0/reference/generated/numpy.random.exponential.html) function and return the number of boats that pass under the bridge on a single simulated day. \n",
    "\n",
    "**Note**: Do not change the API for this function.  "
   ]
  },
  {
   "cell_type": "code",
   "execution_count": 8,
   "metadata": {
    "collapsed": true
   },
   "outputs": [],
   "source": [
    "def boat_count(lam):\n",
    "    count = 0\n",
    "    time = np.random.exponential(1/lam) # First Boat\n",
    "    while(time < 1):\n",
    "        count += 1\n",
    "        time += np.random.exponential(1/lam)\n",
    "    return count"
   ]
  },
  {
   "cell_type": "markdown",
   "metadata": {},
   "source": [
    "**Part G**: Write a function boat_count_sim that takes as arguments the rate parameter $\\lambda$ with units boats per day and an integer number of days to simulate. Your function should use the function you wrote in **Part F** to simulate many independent days of boat crossings and estimate the probability that 15 boats or fewer cross under the bridge on a particular day. For $\\lambda = 20$, does your estimate agree with the by-hand computation you did in **Part C**?  \n",
    "\n",
    "**Note**: Do not change the API for this function.  "
   ]
  },
  {
   "cell_type": "code",
   "execution_count": 9,
   "metadata": {
    "collapsed": true
   },
   "outputs": [],
   "source": [
    "def boat_count_sim(lam, num_days=int(1e3)):\n",
    "    count = 0\n",
    "    for i in range(num_days):\n",
    "        count += 1 if (boat_count(lam) <= 15) else 0\n",
    "    return (count/num_days)"
   ]
  },
  {
   "cell_type": "markdown",
   "metadata": {},
   "source": [
    "**Part H**: Write a function boat_time_sim that takes as arguments the rate parameter $\\lambda$ with units boats per day and an integer number of boat arrivals to simulate. Your function should sample boat arrivals via [np.random.exponential](https://docs.scipy.org/doc/numpy-1.13.0/reference/generated/numpy.random.exponential.html) and estimate the probability that boats arrive between 1 and 2 hours apart.  For $\\lambda = 20$, does your estimate agree with the by-hand computation you did in **Part D**?  \n",
    "\n",
    "**Note**: Do not change the API for this function.  \n"
   ]
  },
  {
   "cell_type": "code",
   "execution_count": 10,
   "metadata": {
    "collapsed": true
   },
   "outputs": [],
   "source": [
    "def boat_time_sim(lam, num_boats=int(1e3)): \n",
    "    count = 0\n",
    "    for i in range(num_boats):\n",
    "        boat = np.random.exponential(1/lam)\n",
    "        if((1/24) < boat < (2/24)):\n",
    "            count += 1\n",
    "    return count/num_boats"
   ]
  },
  {
   "cell_type": "markdown",
   "metadata": {},
   "source": [
    "### [20 points] Problem 5 \n",
    "***\n",
    "\n",
    "You are the team manager for the CU intramural Quidditch team, the Boulder Beaters, and you've just made it to the national championship series against the Stanford Snitching Snitches. The typical Quidditch championship is a best of 11 series, so the first team to win 6 matches is declared the winner.  Furthermore, based on a rigorous statistical analysis of regular season play, the probability that the Boulder Beaters win any one match against the Snitching Snitches is given by $p = 0.55$.  \n",
    "\n",
    "**Part A**: What is the probability that you win the 11-game series on the 8th match played? \n"
   ]
  },
  {
   "cell_type": "markdown",
   "metadata": {
    "collapsed": true
   },
   "source": [
    "** Let B be the Boulder Beaters win, and let E be that the series ends on the eight match. Using the negative binomial distribution, we can then state:**\n",
    "\n",
    "$$\n",
    "\\begin{align*}\n",
    "    P(B \\mid E) &= {7\\choose 5} (.55)^6 (1-0.55)^{2} \\\\\n",
    "        &= 0.117711\n",
    "\\end{align*}\n",
    "$$"
   ]
  },
  {
   "cell_type": "markdown",
   "metadata": {},
   "source": [
    "**Part B**: What is the probability that you win the 11-game series in any valid number of matches? "
   ]
  },
  {
   "cell_type": "markdown",
   "metadata": {
    "collapsed": true
   },
   "source": [
    "** Using a negative binomial distribution, we can state:**\n",
    "$$\n",
    "\\begin{align*}\n",
    "    P(X = 6,7,8,9,10,11) &= (.55)^6 + \\sum\\limits_{i=6}^{i < 11}\\Big({i\\choose 5} (.55)^6 (1-0.55)^{i-5}\\Big)\\\\\n",
    "        &= 0.633123\n",
    "\\end{align*}\n",
    "$$"
   ]
  },
  {
   "cell_type": "code",
   "execution_count": 19,
   "metadata": {},
   "outputs": [
    {
     "data": {
      "text/plain": [
       "0.6369"
      ]
     },
     "execution_count": 19,
     "metadata": {},
     "output_type": "execute_result"
    }
   ],
   "source": [
    "#Let's sim it to check our result\n",
    "def sim_series(games = 11, ser = int(1e4)):\n",
    "    count = 0\n",
    "    for i in range(ser): # There's almost certainly some clever np \n",
    "        wins = 0         #  way to do all this, but here we are\n",
    "        for i in range(games):\n",
    "            wins += np.random.choice(2, p=[0.45, 0.55])\n",
    "        count += 1 if wins >= games/2 else 0\n",
    "    return (count / ser)\n",
    "\n",
    "sim_series() # Looks good! "
   ]
  },
  {
   "cell_type": "markdown",
   "metadata": {},
   "source": [
    "**Part C**: The winner of the champsionship will take home \\$10,000 to use for equipment and victory parties in the following season. Because the stakes are so high, you've decided to hire a famous Quidditch consultant, Bludger Bob, to help you prepare for each match. With Bob's help your probability of winning any given match increases to $p = 0.7$.  Bludger Bob charges a fee of \\$100 per game, but as a testament to his confidence in his abilities, only charges you the \\$100 for games that you win and only if you win the series.  So, if you play a 11-game series and win you will take home \\$10,000 less \\$600 for Bludger Bob's fees, for a total payout of \\$9,400.  What is the expected payout for an 11-game series?   "
   ]
  },
  {
   "cell_type": "markdown",
   "metadata": {
    "collapsed": true
   },
   "source": [
    "** Since our odds of winning the series is simply given by p = 0.633123 from above, we can state: **\n",
    "\n",
    "$$\n",
    "\\begin{align*}\n",
    "    \\text{Expected Value of Winning 11 Game Series} &= p * \\text{Potential Payout} \\\\\n",
    "      &= 0.633123 * \\$9,400 \\\\\n",
    "      &= \\$5951.36\n",
    "\\end{align*}\n",
    "$$"
   ]
  },
  {
   "cell_type": "markdown",
   "metadata": {},
   "source": [
    "**Part D**: This year the National Intramural Quidditch Association (NIQA) is implementing an experimental rule.  As the team with the best record in the regular season you will get to choose the length of the championship series.  Specifically, you can choose the series length to be anywhere from $N=3, 5, 7, \\ldots, 99$ games long.  Assuming that you plan to use Bludger Bob's services and considering the fact that you have a better than even chance of winning each game, explain the trade-offs between choosing a short series vs. a long series in terms of Expected Payout. \n"
   ]
  },
  {
   "cell_type": "markdown",
   "metadata": {
    "collapsed": true
   },
   "source": [
    "** The longer the series, the more likely that your higher chance of winning any individual game will turn into a higher chance of winning the series, but Bludger Bob will charge more as winning a longer series requires winning more games. **"
   ]
  },
  {
   "cell_type": "markdown",
   "metadata": {},
   "source": [
    "**Part E**: Write a function optimal_series that takes in $p$, the probability that your team wins an individual game, then computes the Expected Payout for each series of length $N=3, 5, 7, \\ldots 99$ and returns the optimal series length.  In addition to returning the optimal series length, your function should also produce a plot of Expected Payout vs Series Length. You may write any additional helper functions that you like, but you should not change the API for the function optimal_series. "
   ]
  },
  {
   "cell_type": "code",
   "execution_count": 56,
   "metadata": {},
   "outputs": [],
   "source": [
    "from math import ceil\n",
    "def payout(length = 11):\n",
    "    return (10000 - 100 * ceil(length/2))\n",
    "\n",
    "def optimal_series(p):\n",
    "    count = 0\n",
    "    expected = []\n",
    "    for i in range(3, 45, 2):\n",
    "        expected.append(payout(i) *  sim_series(games = i))\n"
   ]
  },
  {
   "cell_type": "code",
   "execution_count": 54,
   "metadata": {},
   "outputs": [
    {
     "data": {
      "text/plain": [
       "([5549.740000000001,\n",
       "  5742.4,\n",
       "  5789.759999999999,\n",
       "  5853.9,\n",
       "  5984.040000000001,\n",
       "  5952.0,\n",
       "  5949.64,\n",
       "  6038.759999999999,\n",
       "  6032.7,\n",
       "  6019.07,\n",
       "  6012.16,\n",
       "  5995.17,\n",
       "  5993.339999999999,\n",
       "  6010.349999999999,\n",
       "  5950.56,\n",
       "  5939.4800000000005,\n",
       "  5956.4800000000005,\n",
       "  5924.34,\n",
       "  5869.6,\n",
       "  5817.56,\n",
       "  5838.3],\n",
       " 9)"
      ]
     },
     "execution_count": 54,
     "metadata": {},
     "output_type": "execute_result"
    }
   ],
   "source": [
    "optimal_series(.55)"
   ]
  },
  {
   "cell_type": "code",
   "execution_count": 47,
   "metadata": {},
   "outputs": [
    {
     "data": {
      "text/plain": [
       "5640.88"
      ]
     },
     "execution_count": 47,
     "metadata": {},
     "output_type": "execute_result"
    }
   ],
   "source": [
    "payout(3) *  sim_series(games = 3)"
   ]
  },
  {
   "cell_type": "code",
   "execution_count": null,
   "metadata": {
    "collapsed": true
   },
   "outputs": [],
   "source": []
  }
 ],
 "metadata": {
  "kernelspec": {
   "display_name": "Python 3",
   "language": "python",
   "name": "python3"
  },
  "language_info": {
   "codemirror_mode": {
    "name": "ipython",
    "version": 3
   },
   "file_extension": ".py",
   "mimetype": "text/x-python",
   "name": "python",
   "nbconvert_exporter": "python",
   "pygments_lexer": "ipython3",
   "version": "3.6.1"
  }
 },
 "nbformat": 4,
 "nbformat_minor": 2
}
