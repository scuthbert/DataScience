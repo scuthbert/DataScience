{
 "cells": [
  {
   "cell_type": "markdown",
   "metadata": {},
   "source": [
    "# Homework 5: Confidence Intervals, the Bootstrap, and Autograders\n",
    "***\n",
    "\n",
    "**Name**: Samuel Cuthberton\n",
    "\n",
    "**Section**: 001\n",
    "***\n",
    "\n",
    "This assignment is due on Moodle by **5pm on Friday November 10th**. Your solutions to theoretical questions should be done in Markdown/MathJax directly below the associated question.  Your solutions to computational questions should include any specified Python code and results as well as written commentary on your conclusions.  Remember that you are encouraged to discuss the problems with your instructors and classmates, but **you must write all code and solutions on your own**.  For a refresher on the course **Collaboration Policy** click [here](https://github.com/chrisketelsen/csci3022/blob/master/resources/syllabus.md#collaboration-policy).  \n",
    "\n",
    "**NOTES**: \n",
    "\n",
    "- Do **NOT** load or use any Python packages that are not available in Anaconda 3.6. \n",
    "- Some problems with code may be autograded.  If we provide a function API **do not** change it.  If we do not provide a function API then you're free to structure your code however you like. \n",
    "- Because you can technically evaluate notebook cells is a non-linear order, it's a good idea to do Cell $\\rightarrow$ Run All as a check before submitting your solutions.  That way if we need to run your code you will know that it will work as expected. \n",
    "- Submit only this Jupyter notebook to Moodle.  Do not compress it using tar, rar, zip, etc. "
   ]
  },
  {
   "cell_type": "code",
   "execution_count": 6,
   "metadata": {
    "collapsed": true,
    "scrolled": true
   },
   "outputs": [],
   "source": [
    "import numpy as np\n",
    "import matplotlib.pylab as plt\n",
    "import pandas as pd\n",
    "%matplotlib inline"
   ]
  },
  {
   "cell_type": "markdown",
   "metadata": {},
   "source": [
    "### [20 points] Problem 1 - Alcohol Content of Red vs White Wine \n",
    "***\n",
    "\n",
    "Load the data in $\\texttt{winequality-red.csv}$ and $\\texttt{winequality-white.csv}$ into Pandas DataFrames.  A description of this dataset can be found on [Berkeley's Machine Learning Repository](https://archive.ics.uci.edu/ml/datasets/Wine+Quality). The characteristic that we'll be interested in is the wine's alcohol content.  "
   ]
  },
  {
   "cell_type": "code",
   "execution_count": 7,
   "metadata": {
    "collapsed": true
   },
   "outputs": [],
   "source": [
    "redDf = pd.read_csv(\"winequality-red.csv\", sep=\";\")\n",
    "whiteDf = pd.read_csv(\"winequality-white.csv\", sep=\";\")"
   ]
  },
  {
   "cell_type": "markdown",
   "metadata": {},
   "source": [
    "**Part A**: Are we justified in using the assumptions of the Central Limit Theorem in our analysis of estimates of the mean of the data?  Justify your response. "
   ]
  },
  {
   "cell_type": "code",
   "execution_count": 8,
   "metadata": {},
   "outputs": [
    {
     "name": "stdout",
     "output_type": "stream",
     "text": [
      "Size of red wine data set: 1599 items\n",
      "Size of white wine data set: 4898 items\n"
     ]
    }
   ],
   "source": [
    "print(\"Size of red wine data set: \" + str(len(redDf.index)) + \" items\")\n",
    "print(\"Size of white wine data set: \" + str(len(whiteDf.index)) + \" items\")"
   ]
  },
  {
   "cell_type": "markdown",
   "metadata": {},
   "source": [
    "** We are justified in using the CLT in our analysis of the above data frames, as there are far more than 30 data points in each. **"
   ]
  },
  {
   "cell_type": "markdown",
   "metadata": {},
   "source": [
    "**Part B**: Compute a 95% confidence interval for the mean of the red wine's alcohol content.  Separately, compute a 95% confidence interval for the mean of the white wine's alcohol content. Do all computations in Python. "
   ]
  },
  {
   "cell_type": "code",
   "execution_count": 9,
   "metadata": {},
   "outputs": [
    {
     "name": "stdout",
     "output_type": "stream",
     "text": [
      "95% CI for mean of Red:  (10.379161443337976, 10.466804785555029)\n",
      "95% CI for mean of White:  (10.485347087149252, 10.543187008400023)\n"
     ]
    }
   ],
   "source": [
    "from scipy.stats import norm\n",
    "\n",
    "def computeCI(sample, percentile = 0.95):\n",
    "    xbar = np.mean(sample)\n",
    "    xsd = np.std(sample)\n",
    "    n = len(sample)\n",
    "    zao2 = norm.ppf(percentile)\n",
    "    SE = xsd/np.sqrt(n)\n",
    "    return (xbar - zao2*SE, xbar + zao2*SE)\n",
    "\n",
    "print(\"95% CI for mean of Red: \", computeCI(redDf[\"alcohol\"], 0.95))\n",
    "print(\"95% CI for mean of White: \", computeCI(whiteDf[\"alcohol\"], 0.95))"
   ]
  },
  {
   "cell_type": "markdown",
   "metadata": {},
   "source": [
    "**Part C**: Compute the 95% confidence interval for the difference between the means of the alcohol content of red and white wine. "
   ]
  },
  {
   "cell_type": "code",
   "execution_count": 10,
   "metadata": {},
   "outputs": [
    {
     "name": "stdout",
     "output_type": "stream",
     "text": [
      "95% CI for diffrence of the means (White to Red):  (0.041461583050550206, 0.14110628360572069)\n"
     ]
    }
   ],
   "source": [
    "from scipy.stats import norm\n",
    "\n",
    "def computeCIDiff(samplea, sampleb, percentile = 0.95):\n",
    "    xbarDelta = np.mean(samplea) - np.mean(sampleb) \n",
    "    xasd, xbsd = np.std(samplea), np.std(sampleb)\n",
    "    n, m = len(samplea), len(sampleb)\n",
    "    \n",
    "    zao2 = norm.ppf(percentile)\n",
    "    SE = np.sqrt(xasd/n + xbsd/m)\n",
    "    return (xbarDelta - zao2*SE, xbarDelta + zao2*SE)\n",
    "\n",
    "print(\"95% CI for diffrence of the means (White to Red): \", \n",
    "      computeCIDiff(whiteDf[\"alcohol\"], redDf[\"alcohol\"], 0.95))"
   ]
  },
  {
   "cell_type": "markdown",
   "metadata": {},
   "source": [
    "**Part D**: Interpret the confidence interval you computed in **Part C** in one or two sentences.  Can you say that it's likely that there is a difference in mean alcohol content between red and white wine?  "
   ]
  },
  {
   "cell_type": "markdown",
   "metadata": {
    "collapsed": true
   },
   "source": [
    "**As zero is not in the confidence interval, yes we can state that there is likely to be a diffrence in mean alcohol content from white to red wine.**"
   ]
  },
  {
   "cell_type": "markdown",
   "metadata": {},
   "source": [
    "### [15 points] Problem 2: Election Polling\n",
    "***\n",
    "\n",
    "On the eve of an important senate seat election, a pollster polls a simple random sample of the population and asks which candidate they plan to vote for on the following day. In particular, the pollster asks if the respondents plan to vote for Candidate A, Candidate B, or some other candidate.  The results of the poll can be found in the following table: \n",
    "\n",
    "\\begin{array}{ccc}\n",
    "\\hline \n",
    "\\textrm{Candidate A} & \\textrm{Candidate B} & \\textrm{Other} \\\\\n",
    "\\hline \n",
    "1204 & 1099 & 205  \\\\\n",
    "\\hline \n",
    "\\end{array}\n",
    "\n",
    "**Part A**: Poll results are typically reported as a predicted **percentage** of the electorate plus or minus a margin of error, i.e. $\\texttt{percentage} \\pm \\texttt{margin}$.  Express the poll results for Candidates A and B in the specified format at the 95% confidence level. "
   ]
  },
  {
   "cell_type": "code",
   "execution_count": 11,
   "metadata": {},
   "outputs": [
    {
     "name": "stdout",
     "output_type": "stream",
     "text": [
      "Canidate A: 48.006 ± 1.641%\n",
      "Canidate B: 43.820 ± 1.630%\n"
     ]
    }
   ],
   "source": [
    "pa = 1204 / (1204 + 1099 + 205)\n",
    "pb = 1099 / (1204 + 1099 + 205)\n",
    "\n",
    "za = norm.ppf(.95)\n",
    "\n",
    "cia = za * np.sqrt((pa * (1-pa)) / (1204 + 1099 + 205))\n",
    "cib = za * np.sqrt((pb * (1-pb)) / (1204 + 1099 + 205))\n",
    "\n",
    "canA = [pa, cia]\n",
    "canB = [pb, cib]\n",
    "print(\"Canidate A: {0:1.3f} ± {1:1.3f}%\".format(canA[0]*100, canA[1]*100))\n",
    "print(\"Canidate B: {0:1.3f} ± {1:1.3f}%\".format(canB[0]*100, canB[1]*100))"
   ]
  },
  {
   "cell_type": "markdown",
   "metadata": {},
   "source": [
    "**Part B**: Express the poll results as 95% confidence intervals.  Based on these results, would it be responsible for a newspaper to definitely call the election for a particular candidate? Clearly justify your response. "
   ]
  },
  {
   "cell_type": "code",
   "execution_count": 12,
   "metadata": {},
   "outputs": [
    {
     "name": "stdout",
     "output_type": "stream",
     "text": [
      "Candidate A: [0.49647301812156025, 0.4636545735849788]\n",
      "Candidate B: [0.45449411556159802, 0.42190141872867315]\n"
     ]
    }
   ],
   "source": [
    "canAi = [pa + cia, pa - cia]\n",
    "canBi = [pb + cib, pb - cib]\n",
    "print(\"Candidate A:\", canAi)\n",
    "print(\"Candidate B:\", canBi)"
   ]
  },
  {
   "cell_type": "markdown",
   "metadata": {},
   "source": [
    "**Since the confidence intervals have no overlap, a newpaper could responsibly call the election for candidate A with at least 95% certainty.**"
   ]
  },
  {
   "cell_type": "markdown",
   "metadata": {},
   "source": [
    "**Part C**: In the run-up to the next election, the pollster is designing a poll of a city council race between two relatively unknown candidates.  Without having any prior data, how many respondents does the pollster need responses from to guarantee that she will get at most a 2% margin of error at the 95% confidence level? Be sure to **clearly** justify your reasoning.  \n",
    "\n",
    "**Hint**: Recall that when computing confidence intervals for proportions we use the actual sample proportions to approximate the variance.  How can you get a worst-case scenario estimate of the variance when the sample proportion is not known _a priori_? \n"
   ]
  },
  {
   "cell_type": "code",
   "execution_count": 13,
   "metadata": {},
   "outputs": [
    {
     "name": "stdout",
     "output_type": "stream",
     "text": [
      "0.00274142271159\n"
     ]
    }
   ],
   "source": [
    "za = norm.ppf(.95)\n",
    "ci = za * (np.sqrt( (150/300) * (150/300) ) / 300)\n",
    "print(ci)\n",
    "# TODO: FINISH"
   ]
  },
  {
   "cell_type": "markdown",
   "metadata": {},
   "source": [
    "### [15 points] Problem 3 - Have Opinions on Marijuana Legalization Changed? \n",
    "***\n",
    "\n",
    "The General Social Survey (GSS) has been collecting demographic, behavioral, and attitudinal information since 1972 to monitor changes within the US and to compare the US to other nations. Support for the legalization of marijuana in the US is shown for 2010 and in 2016 in the following table:\n",
    "\n",
    "\n",
    "\\begin{array}{cccc}\n",
    "\\hline\n",
    "\\textrm{Year} & \\textrm{Favor} & \\textrm{Oppose} & \\textrm{Total} \\\\ \n",
    "\\hline\n",
    "\\textrm{2010} & \\textrm{603} & \\textrm{656} & \\textrm{1259} \\\\\n",
    "\\textrm{2016} & \\textrm{1126} & \\textrm{717} & \\textrm{1843} \\\\\n",
    "\\hline\n",
    "\\end{array}\n",
    "\n",
    "\n",
    "**Part A**: Find a 95% confidence interval for the change in the proportion supporting marijuana legalization from 2010 to 2016. Use Python for all computations and show your work. "
   ]
  },
  {
   "cell_type": "code",
   "execution_count": 14,
   "metadata": {},
   "outputs": [
    {
     "name": "stdout",
     "output_type": "stream",
     "text": [
      "[0.10225625074619538, 0.1617614328920004]\n"
     ]
    }
   ],
   "source": [
    "pf1 = 603 / 1259\n",
    "pf6 = 1126 / 1843\n",
    "\n",
    "deltapf = pf6 - pf1\n",
    "\n",
    "za = norm.ppf(.95)\n",
    "\n",
    "ci = za * np.sqrt(((pf1 * (1-pf1)) / (1259)) + ((pf6 * (1-pf6)) / (1843)))\n",
    "cif = [deltapf - ci, deltapf + ci]\n",
    "print(cif)"
   ]
  },
  {
   "cell_type": "markdown",
   "metadata": {},
   "source": [
    "**Part B**: Is it likely that the proportion supporting marijuana legalization changed between 2010 and 2016? Justify your conclusion using the ideas of statistical inference and your results from **Part A**. "
   ]
  },
  {
   "cell_type": "markdown",
   "metadata": {
    "collapsed": true
   },
   "source": [
    "**Yes, as our confidence interval is entirely positive, it is likely that the proportion that supported marijuana legalization incresed from 2010 to 2016. **"
   ]
  },
  {
   "cell_type": "markdown",
   "metadata": {},
   "source": [
    "### [20 points] Problem 4 - Exploring Confidence Intervals \n",
    "***\n",
    "\n",
    "The so-called [Chi-squared](https://en.wikipedia.org/wiki/Chi-squared_distribution) distribution is important in several statistical tests.  It's also fairly asymmetric, and thus interesting for investigating confidence intervals.  It is implemented in scipy.stats as [chi2](https://docs.scipy.org/doc/scipy-0.19.1/reference/generated/scipy.stats.chi2.html). \n"
   ]
  },
  {
   "cell_type": "code",
   "execution_count": 15,
   "metadata": {
    "collapsed": true
   },
   "outputs": [],
   "source": [
    "from scipy.stats import chi2"
   ]
  },
  {
   "cell_type": "markdown",
   "metadata": {},
   "source": [
    "**Part A**: Complete the following code cell to plot a histogram of realizations from the Chi-squared distribution with parameter $K=3$. "
   ]
  },
  {
   "cell_type": "code",
   "execution_count": 16,
   "metadata": {
    "scrolled": false
   },
   "outputs": [
    {
     "data": {
      "image/png": "[encoded data removed]",
      "text/plain": [
       "<matplotlib.figure.Figure at 0x7f06bbcb8b38>"
      ]
     },
     "metadata": {},
     "output_type": "display_data"
    }
   ],
   "source": [
    "k = 3 \n",
    "x = chi2.rvs(k, size=10000)\n",
    "fig, ax = plt.subplots(nrows=1, ncols=1, figsize=(12,6))\n",
    "ax.grid(True, alpha=0.25)\n",
    "plt.ylabel('Number of chi2(k = 3, x)',fontsize=16)\n",
    "plt.xlabel('x',fontsize=16)\n",
    "plt.hist(x)\n",
    "plt.show()"
   ]
  },
  {
   "cell_type": "markdown",
   "metadata": {},
   "source": [
    "**Part B**: Look up the mean and variance of the Chi-squared distribution with parameter $k=3$ and report them here. "
   ]
  },
  {
   "cell_type": "markdown",
   "metadata": {
    "collapsed": true
   },
   "source": [
    "**The mean of Chi-squared(k) is k, so here the mean is 3.**\n",
    "\n",
    "**The variance is 2k, so here the variance is 2*3 = 6.**"
   ]
  },
  {
   "cell_type": "markdown",
   "metadata": {},
   "source": [
    "**Part C**: In this part you'll write a function to investigate the _coverage properties_ of a confidence interval for the mean of the Chi-squared distribution. Complete the following function to randomly sample $m=500$ sample means with sample size $n=100$ for the Chi-squared distribution with parameter $k=3$.  For each random sample, compute the 95% confidence interval for the mean.  Your function should do two things: \n",
    "\n",
    "1. Report the proportion of confidence intervals that successfully cover the true mean of the distribution \n",
    "2. Make a plot of 50 randomly selected confidence intervals. Overlay the intervals on the line $y=\\mu$ where $\\mu$ is the true mean of the distribution. Color confidence intervals black if they cover the true mean, and red if they don't.  "
   ]
  },
  {
   "cell_type": "code",
   "execution_count": 17,
   "metadata": {
    "scrolled": false
   },
   "outputs": [
    {
     "data": {
      "image/png": "[encoded data removed]",
      "text/plain": [
       "<matplotlib.figure.Figure at 0x7f06bbc5fcc0>"
      ]
     },
     "metadata": {},
     "output_type": "display_data"
    },
    {
     "name": "stdout",
     "output_type": "stream",
     "text": [
      "Percent of CI covering the mean: 93.8%\n"
     ]
    }
   ],
   "source": [
    "import matplotlib.lines as lines\n",
    "\n",
    "def indiv_ci(mean, xsd, z, n):\n",
    "    SE = xsd/np.sqrt(n)\n",
    "    return (mean - z*SE, mean + z*SE)\n",
    "\n",
    "def confidence_intervals(m=500, n=100):\n",
    "    CIs = []\n",
    "    out = 0\n",
    "    \n",
    "    for ii in range(m):\n",
    "        sample = np.random.chisquare(3, n)\n",
    "        xbar = np.mean(sample)\n",
    "        xsd = chi2.std(3)\n",
    "        zao2 = 1.96 # Get rid of the floating point errors from norm.ppf(0.95)\n",
    "        CI = indiv_ci(xbar, xsd, zao2, n)\n",
    "        \n",
    "        if(CI[0] > 3 or CI[1] < 3): \n",
    "            out += 1\n",
    "        \n",
    "        CIs.append(CI)\n",
    "        \n",
    "    out /= m\n",
    "    \n",
    "    # Make a plot\n",
    "    fig, ax = plt.subplots(nrows=1, ncols=1, figsize=(12,6))\n",
    "    ax.grid(True, alpha=0.25)\n",
    "    plt.ylabel('Number of chi2(k = 3, x)',fontsize=16)\n",
    "    plt.ylim([0,5])\n",
    "    plt.xlim([0,50])\n",
    "    plt.xlabel('x',fontsize=16)\n",
    "    \n",
    "    for ii in range(50):\n",
    "        index = np.random.choice(range(m))\n",
    "        CI = CIs[index]\n",
    "        if(CI[0] > 3 or CI[1] < 3): \n",
    "            plt.plot((ii, ii), (CI[0], CI[1]), '#FF0000')\n",
    "        else:\n",
    "            plt.plot((ii, ii), (CI[0], CI[1]), '#000000')\n",
    "    \n",
    "    plt.show()\n",
    "    \n",
    "    return (1-out)\n",
    "    \n",
    "print(\"Percent of CI covering the mean: \" + str(100*confidence_intervals()) + \"%\")"
   ]
  },
  {
   "cell_type": "markdown",
   "metadata": {},
   "source": [
    "**Part D**: Does the proportion of confidence intervals that cover the true mean of the distribution agree with the theory described in class?  Justify your conclusion. "
   ]
  },
  {
   "cell_type": "markdown",
   "metadata": {
    "collapsed": true
   },
   "source": [
    "** Yes, they do. As we are producing a 95% confidence interval, having roughly 95% of our convidence intervals cover the mean is exactly as expected. **"
   ]
  },
  {
   "cell_type": "markdown",
   "metadata": {},
   "source": [
    "### [20 points] Problem 5 - Bootstrapped Confidence Intervals \n",
    "***\n",
    "\n",
    "An important feature in online advertising is the so-called _dwell time_, or the amount of time that a user spends viewing a particular piece of content. The data in dwell_times.csv contains the dwell times (in minutes) for 500 randomly selected users viewing an article on a website.  \n"
   ]
  },
  {
   "cell_type": "markdown",
   "metadata": {},
   "source": [
    "**Part A**: Read in the data from dwell_times.csv and create a frequency histogram with 20 bins. "
   ]
  },
  {
   "cell_type": "code",
   "execution_count": 18,
   "metadata": {},
   "outputs": [
    {
     "data": {
      "image/png": "[encoded data removed]",
      "text/plain": [
       "<matplotlib.figure.Figure at 0x7f06ab91ce10>"
      ]
     },
     "metadata": {},
     "output_type": "display_data"
    }
   ],
   "source": [
    "dwellDf = pd.read_csv(\"dwell_times.csv\", sep=\";\")\n",
    "dwellDf.head()\n",
    "fig, ax = plt.subplots(nrows=1, ncols=1, figsize=(12,6))\n",
    "ax.grid(True, alpha=0.25)\n",
    "plt.ylabel('Frequency',fontsize=16)\n",
    "plt.xlabel('Dwell Time (ms)',fontsize=16)\n",
    "hist, bin_edges = np.histogram(dwellDf[\"dwell time\"], bins = 20)\n",
    "plt.bar(bin_edges[:-1], hist, width=1.7)\n",
    "plt.show()"
   ]
  },
  {
   "cell_type": "markdown",
   "metadata": {},
   "source": [
    "**Part B**: Complete the function dwell_mean below to create an empirical bootstrapped confidence interval at the 95% confidence level for the mean dwell time.  Use at least 5000 bootstrap resamples. In addition to returning the confidence interval, your function should also plot a histogram of the bootstrap resample means, along with some graphical representation of the 95% confidence interval. "
   ]
  },
  {
   "cell_type": "code",
   "execution_count": 19,
   "metadata": {},
   "outputs": [
    {
     "data": {
      "image/png": "[encoded data removed]",
      "text/plain": [
       "<matplotlib.figure.Figure at 0x7f06ab8c1860>"
      ]
     },
     "metadata": {},
     "output_type": "display_data"
    },
    {
     "name": "stdout",
     "output_type": "stream",
     "text": [
      "Bootstrapped 95% CI for the Mean: [ 8.11389645  8.78765049]\n"
     ]
    }
   ],
   "source": [
    "def dwell_mean(df, num_boots=5000, isPlot=False):\n",
    "    \n",
    "    CI = np.array([0.0, 1.0])\n",
    "    \n",
    "    # resample the data num_boots time\n",
    "    # compute the sample means of each resample\n",
    "    resampled = np.zeros(num_boots)\n",
    "    for ii in range(num_boots):\n",
    "        resampled[ii] = np.mean(np.random.choice(df, size=(len(df)), replace=True))\n",
    "    \n",
    "    CI[0] = np.percentile(resampled, 5)\n",
    "    CI[1] = np.percentile(resampled, 95) \n",
    "    \n",
    "    if isPlot: \n",
    "        # TODO plot histogram \n",
    "        fig, ax = plt.subplots(nrows=1, ncols=1, figsize=(12,6))\n",
    "        ax.grid(True, alpha=0.25)\n",
    "        plt.ylabel('Frequency',fontsize=16)\n",
    "        plt.xlabel('Mean Dwell Time (ms)',fontsize=16)\n",
    "        plt.hist(resampled)\n",
    "        plt.axvline(CI[0], color=\"dimgrey\")\n",
    "        plt.axvline(CI[1], color=\"dimgrey\")\n",
    "        plt.show()\n",
    "\n",
    "    return CI \n",
    "\n",
    "\n",
    "print(\"Bootstrapped 95% CI for the Mean:\", dwell_mean(dwellDf[\"dwell time\"], isPlot=True))"
   ]
  },
  {
   "cell_type": "markdown",
   "metadata": {},
   "source": [
    "**Part C**: Suppose you are told that the actual dwell times in dwell_times.csv were sampled from a [LogNormal]() distribution with parameters $\\mu=2$ and $\\sigma^2 = \\frac{1}{4}$. Go to the linked Wiki page and read about the LogNormal distribution.  Then compute the exact **mean**, **median**, and **standard deviation** of the distribution for the given parameters and report them here. "
   ]
  },
  {
   "cell_type": "code",
   "execution_count": 20,
   "metadata": {},
   "outputs": [
    {
     "name": "stdout",
     "output_type": "stream",
     "text": [
      "Mean: 8.37, Median: 7.39, Standard Deviation: 4.46\n"
     ]
    }
   ],
   "source": [
    "from scipy.stats import lognorm\n",
    "mean = np.exp(2 + (1/4)/2)\n",
    "median = np.exp(2)\n",
    "var = (np.exp(1/4) - 1) * np.exp(2*2 + 1/4)\n",
    "std = np.sqrt(var)\n",
    "print(\"Mean: {0:1.2f}, Median: {1:1.2f}, Standard Deviation: {2:1.2f}\".format(mean, median, std))"
   ]
  },
  {
   "cell_type": "markdown",
   "metadata": {},
   "source": [
    "**Part D**: Use the true standard deviation of the distribution to compute a traditional 95% confidence interval for the sample mean of the dwell time data.  Compare the traditional 95% confidence interval to the bootstrapped 95% confidence interval. Do both confidence intervals cover the true mean?  Do both confidence intervals have roughly the same width?   "
   ]
  },
  {
   "cell_type": "code",
   "execution_count": 21,
   "metadata": {},
   "outputs": [
    {
     "name": "stdout",
     "output_type": "stream",
     "text": [
      "True CI: (8.1168963142926032, 8.773384065132376)\n",
      "Bootstrapped CI: [ 8.10323008  8.78950354]\n"
     ]
    }
   ],
   "source": [
    "print(\"True CI: \" + str(indiv_ci(np.mean(dwellDf[\"dwell time\"]), std, norm.ppf(0.95), len(dwellDf[\"dwell time\"]))))\n",
    "print(\"Bootstrapped CI: \" + str(dwell_mean(dwellDf[\"dwell time\"])))"
   ]
  },
  {
   "cell_type": "markdown",
   "metadata": {},
   "source": [
    "**We can see that both CI's cover the true mean of 8.37 and are in fact almost identical, having very similar widths.**"
   ]
  },
  {
   "cell_type": "markdown",
   "metadata": {},
   "source": [
    "**Part E**: Complete the function dwell_stdev below to create an empirical bootstrapped confidence interval at the 95% confidence level for the standard deviation of dwell time.  Use at least 5000 bootstrapped resamples. In addition to returning the confidence interval, your function should also plot a histogram of the bootstrap resample standard deviations including some graphical indication of the 95% confidence interval.  "
   ]
  },
  {
   "cell_type": "code",
   "execution_count": 22,
   "metadata": {},
   "outputs": [
    {
     "data": {
      "image/png": "[encoded data removed]",
      "text/plain": [
       "<matplotlib.figure.Figure at 0x7f06abb045c0>"
      ]
     },
     "metadata": {},
     "output_type": "display_data"
    },
    {
     "name": "stdout",
     "output_type": "stream",
     "text": [
      "Bootstrapped 95% CI for the Standard Deviation: [ 4.12459519  5.01966782]\n"
     ]
    }
   ],
   "source": [
    "def dwell_stdev(df, num_boots=5000, isPlot=False):\n",
    "    \n",
    "    CI = np.array([0.0, 1.0])\n",
    "    \n",
    "    # resample the data num_boots time\n",
    "    # compute the sample means of each resample\n",
    "    resampled = np.zeros(num_boots)\n",
    "    for ii in range(num_boots):\n",
    "        resampled[ii] = np.std(np.random.choice(df, size=(len(df)), replace=True))\n",
    "    \n",
    "    CI[0] = np.percentile(resampled, 5)\n",
    "    CI[1] = np.percentile(resampled, 95) \n",
    "    \n",
    "    if isPlot: \n",
    "        # TODO plot histogram \n",
    "        fig, ax = plt.subplots(nrows=1, ncols=1, figsize=(12,6))\n",
    "        ax.grid(True, alpha=0.25)\n",
    "        plt.ylabel('Frequency',fontsize=16)\n",
    "        plt.xlabel('Dwell Time Standard Deviation', fontsize=16)\n",
    "        plt.hist(resampled)\n",
    "        plt.axvline(CI[0], color=\"dimgrey\")\n",
    "        plt.axvline(CI[1], color=\"dimgrey\")\n",
    "        plt.show()\n",
    "\n",
    "    return CI \n",
    "\n",
    "print(\"Bootstrapped 95% CI for the Standard Deviation:\", dwell_stdev(dwellDf[\"dwell time\"], isPlot=True))"
   ]
  },
  {
   "cell_type": "markdown",
   "metadata": {},
   "source": [
    "**Part F**: Does the true standard deviation of the distribution fall inside your 95% bootstrapped confidence interval? "
   ]
  },
  {
   "cell_type": "markdown",
   "metadata": {
    "collapsed": true
   },
   "source": [
    "**Yes, as 4.11 < 4.46 < 5.00, assuming this notebook has not been re-run since writing this answer. Around 95% of the time, the standard deviation will fall in the interval output above. **"
   ]
  },
  {
   "cell_type": "markdown",
   "metadata": {},
   "source": [
    "**Part G**: Complete the function dwell_med below to create an empirical bootstrapped confidence interval at the 95% confidence level for the median dwell time.  Use at least 5000 bootstrap resamples. In addition to returning the confidence interval, your function should also plot a histogram of the bootstrap resample medians including some graphical indication of the 95% confidence interval.  "
   ]
  },
  {
   "cell_type": "code",
   "execution_count": 23,
   "metadata": {},
   "outputs": [
    {
     "data": {
      "image/png": "[encoded data removed]",
      "text/plain": [
       "<matplotlib.figure.Figure at 0x7f06aba896d8>"
      ]
     },
     "metadata": {},
     "output_type": "display_data"
    },
    {
     "name": "stdout",
     "output_type": "stream",
     "text": [
      "Bootstrapped 95% CI for the Standard Deviation: [ 7.13804931  7.95345714]\n"
     ]
    }
   ],
   "source": [
    "def dwell_med(df, num_boots=5000, isPlot=False):\n",
    "    \n",
    "    CI = np.array([0.0, 1.0])\n",
    "    \n",
    "    # resample the data num_boots time\n",
    "    # compute the sample means of each resample\n",
    "    resampled = np.zeros(num_boots)\n",
    "    for ii in range(num_boots):\n",
    "        resampled[ii] = np.median(np.random.choice(df, size=(len(df)), replace=True))\n",
    "    \n",
    "    CI[0] = np.percentile(resampled, 5)\n",
    "    CI[1] = np.percentile(resampled, 95) \n",
    "    \n",
    "    if isPlot: \n",
    "        # TODO plot histogram \n",
    "        fig, ax = plt.subplots(nrows=1, ncols=1, figsize=(12,6))\n",
    "        ax.grid(True, alpha=0.25)\n",
    "        plt.ylabel('Frequency',fontsize=16)\n",
    "        plt.xlabel('Median Dwell Time (ms)',fontsize=16)\n",
    "        plt.hist(resampled)\n",
    "        plt.axvline(CI[0], color=\"dimgrey\")\n",
    "        plt.axvline(CI[1], color=\"dimgrey\")\n",
    "        plt.show()\n",
    "\n",
    "    return CI \n",
    "\n",
    "print(\"Bootstrapped 95% CI for the Standard Deviation:\", dwell_med(dwellDf[\"dwell time\"], isPlot=True))"
   ]
  },
  {
   "cell_type": "markdown",
   "metadata": {},
   "source": [
    "**Part H**: Does the true median of the distribution fall inside your 95% bootstrapped confidence interval? "
   ]
  },
  {
   "cell_type": "markdown",
   "metadata": {
    "collapsed": true
   },
   "source": [
    "**Yes, as 7.13 < 7.39 < 7.95, assuming this notebook has not been re-run since writing this answer. Roughly 95% of the time, the median will fall in the interval output above. **"
   ]
  },
  {
   "cell_type": "markdown",
   "metadata": {},
   "source": [
    "### [15 points] Problem 6 - Autograding Simulation Homework \n",
    "***\n",
    "\n",
    "Suppose that you are the grader for an Introduction to Data Science course and your boss has asked you to write an autograder for a homework problem on simulation.  Specifically, students have been asked to write a simulation to estimate the expected number of rolls it will take until doubles are rolled with a pair of fair, six-sided dice (i.e. until both dice show the same value).  The students have been asked to structure their code so that it runs many trials of the experiment and returns the sample mean of the trials, as well as an array containing the result of each individual trial. \n",
    "\n",
    "The solutions submitted by three students in the course are given below. "
   ]
  },
  {
   "cell_type": "code",
   "execution_count": 24,
   "metadata": {
    "collapsed": true
   },
   "outputs": [],
   "source": [
    "def student1(num_trials=5000):\n",
    "    t = np.zeros(num_trials)\n",
    "    for ii in range(num_trials):\n",
    "        ctr = 0\n",
    "        while np.random.choice([1,2,3,4,5,6]) != np.random.choice([1,2,3,4,5,6]):\n",
    "            ctr += 1 \n",
    "        t[ii] = ctr \n",
    "    return np.mean(t), t\n",
    "\n",
    "def student2(num_trials=5000):\n",
    "    t = np.zeros(num_trials)\n",
    "    for ii in range(num_trials):\n",
    "        ctr = 1\n",
    "        while int(6*np.random.uniform(0,1)+1) != int(6*np.random.uniform(0,1)+1):\n",
    "            ctr += 1 \n",
    "        t[ii] = ctr \n",
    "    return np.mean(t), t\n",
    "\n",
    "def student3(num_trials=5000):\n",
    "    t = np.random.exponential(6, size=num_trials)\n",
    "    return np.mean(t), t "
   ]
  },
  {
   "cell_type": "markdown",
   "metadata": {},
   "source": [
    "Now, you landed this job at the last minute, and your probability theory is a little rusty.  Luckily, your boss has given you her solution to the problem which is shown below: "
   ]
  },
  {
   "cell_type": "code",
   "execution_count": 25,
   "metadata": {
    "collapsed": true
   },
   "outputs": [],
   "source": [
    "def prof(num_trials=5000):\n",
    "    t = np.random.geometric(1/6, size=num_trials)\n",
    "    return np.mean(t), t"
   ]
  },
  {
   "cell_type": "markdown",
   "metadata": {},
   "source": [
    "Knowing that your probability theory is rusty, your boss has suggested that your autograder be constructed solely based on confidence intervals to compare the students' estimates of the expected value of the experiment to her own estimate.  Finally, although there are only examples from three students above, there are actually more than 100 students in the course, so tailoring your tests to features of individual students' code is out of the question. \n",
    "\n",
    "**Part A**: Complete the function autograder below, which takes in the realizations of the trials from your professor's code and one of the students' codes, as well as the $\\alpha$ for a $100(1-\\alpha)\\%$ confidence interval and returns a string indicating whether the student passed or failed the test. **Clearly** indicate what statistical test(s) your autograder is using and why this is a good idea.  Then demonstrate the use of your autograder to grade the three student solutions above based on a 95% confidence level. "
   ]
  },
  {
   "cell_type": "code",
   "execution_count": 51,
   "metadata": {},
   "outputs": [
    {
     "name": "stdout",
     "output_type": "stream",
     "text": [
      "Student 1 Failed with a 95% CI\n",
      "Student 2 Passed with a 95% CI\n",
      "Student 3 Passed with a 95% CI\n"
     ]
    }
   ],
   "source": [
    "def autograder(pf, st, alpha=0.05):\n",
    "    # Let's generate a 100(1 - a)% CI using an arbitrarily large number of samples from professors' code \n",
    "    n = 5000 # Mean from 5000 trials, note 5000 > 30\n",
    "    correct = pf(num_trials = n)\n",
    "    ci =  indiv_ci(correct[0], np.std(correct[1]), norm.ppf(1 - alpha), n)\n",
    "        \n",
    "    student = st(num_trials = n)\n",
    "    if ci[0] < student[0] < ci[1]:\n",
    "        return \"Passed\"\n",
    "    else:\n",
    "        return \"Failed\"\n",
    "    \n",
    "print(\"Student 1 \" + autograder(prof, student1) + \" with a 95% CI\")\n",
    "print(\"Student 2 \" + autograder(prof, student2) + \" with a 95% CI\")\n",
    "print(\"Student 3 \" + autograder(prof, student3) + \" with a 95% CI\")"
   ]
  }
 ],
 "metadata": {
  "kernelspec": {
   "display_name": "Python 3",
   "language": "python",
   "name": "python3"
  },
  "language_info": {
   "codemirror_mode": {
    "name": "ipython",
    "version": 3
   },
   "file_extension": ".py",
   "mimetype": "text/x-python",
   "name": "python",
   "nbconvert_exporter": "python",
   "pygments_lexer": "ipython3",
   "version": "3.6.3"
  }
 },
 "nbformat": 4,
 "nbformat_minor": 2
}
