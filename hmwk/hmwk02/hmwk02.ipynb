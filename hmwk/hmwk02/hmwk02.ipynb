{
 "cells": [
  {
   "cell_type": "markdown",
   "metadata": {},
   "source": [
    "# Homework 2: Introduction to Probability and Simulation \n",
    "***\n",
    "\n",
    "**Name**: Sam Cuthbertson\n",
    "\n",
    "**Section**: 001\n",
    "***\n",
    "\n",
    "This assignment is due on Moodle by **5pm on Friday September 29th**. Your solutions to theoretical questions should be done in Markdown/MathJax directly below the associated question.  Your solutions to computational questions should include any specified Python code and results as well as written commentary on your conclusions.  Remember that you are encouraged to discuss the problems with your instructors and classmates, but **you must write all code and solutions on your own**.  For a refresher on the course **Collaboration Policy** click [here](https://github.com/chrisketelsen/csci3022/blob/master/resources/syllabus.md#collaboration-policy).  \n",
    "\n",
    "**NOTES**: \n",
    "\n",
    "- Some problems with code may be autograded.  If we provide a function API please do not change it.  If we do not provide a function API then you're free to structure your code however you like. \n",
    "- It is **bad form** to make your reader interpret numerical output from your code.  If a question asks you to compute some value from the data you should show your code output **AND** write a summary of the results in Markdown directly below your code.\n",
    "- Because you can technically evaluate notebook cells is a non-linear order, it's a good idea to do Cell $\\rightarrow$ Run All as a check before submitting your solutions.  That way if we need to run your code you will know that it will work as expected. \n",
    "- Submit only this Jupyter notebook to Moodle.  Do not compress it using tar, rar, zip, etc. "
   ]
  },
  {
   "cell_type": "code",
   "execution_count": 2,
   "metadata": {
    "collapsed": true,
    "scrolled": true
   },
   "outputs": [],
   "source": [
    "import pandas as pd\n",
    "import numpy as np\n",
    "import matplotlib.pylab as plt\n",
    "%matplotlib inline"
   ]
  },
  {
   "cell_type": "markdown",
   "metadata": {},
   "source": [
    "### [20 points] Problem 1 \n",
    "***\n",
    "\n",
    "In a box there are 99 fair coins and 1 double-headed coin.  You grab one coin at random.  \n",
    "\n",
    "Work the following problems by hand (but don't be afraid to simulate to check your result!). \n"
   ]
  },
  {
   "cell_type": "markdown",
   "metadata": {},
   "source": [
    "**Part A**: You toss your coin one time.  What is the probability that you toss a Heads? "
   ]
  },
  {
   "cell_type": "markdown",
   "metadata": {},
   "source": [
    "$$\n",
    "\\frac{99}{100}\\frac{1}{2} + \\frac{1}{100}\\frac{1}{1} = \\frac{101}{200}\n",
    "$$"
   ]
  },
  {
   "cell_type": "markdown",
   "metadata": {},
   "source": [
    "**Part B**: Suppose you toss a Heads.  What is the probability that the coin you chose from the box is double-sided? "
   ]
  },
  {
   "cell_type": "markdown",
   "metadata": {},
   "source": [
    "\\begin{align*}\n",
    "    P(\\text{double-headed | heads}) &= \\frac{ P(\\text{heads | double-headed}) P(\\text{double-headed}) }{P(heads)} \\\\ \n",
    "    &= \\frac{ 1 * 1/100}{101/200} \\\\\n",
    "    \\\\\n",
    "    &= \\frac{2}{101} \\approx 1.98\\%\n",
    "\\end{align*}"
   ]
  },
  {
   "cell_type": "markdown",
   "metadata": {},
   "source": [
    "**Part C**: Suppose you flip your coin $n$ times and record each outcome.  Obviously, if you flip Tails you know you picked a fair coin. But, if you flipped $n$ Heads in a row you would have a stronger belief that you in fact grabbed the double-headed coin.  What is the smallest value of $n$ Heads in a row that would make you believe that there's a better-than-half chance that the coin you grabbed is double-headed?  "
   ]
  },
  {
   "cell_type": "markdown",
   "metadata": {},
   "source": [
    "\\begin{align*}\n",
    "    P(\\text{double-headed | 2 heads}) &= \\frac{ P(\\text{2 heads | double-headed}) P(\\text{double-headed}) }{P(\\text{2 heads})} \\\\ \n",
    "    &= \\frac{ 1 * 1/100}{103/400} \\\\\n",
    "    \\\\\n",
    "    &= \\frac{4}{103} \\approx 3.88\\% \\\\\n",
    "    &\\ldots \\\\\n",
    "    P(\\text{double-headed | 6 heads}) &= \\frac{ P(\\text{6 heads | double-headed}) P(\\text{double-headed}) }{P(\\text{6 heads})} \\\\ \n",
    "    &= \\frac{1 * 1/100}{163/6400} \\\\\n",
    "    \\\\\n",
    "    &= \\frac{64}{163} \\approx 39.26\\% \\\\ \\\\\n",
    "    P(\\text{double-headed | 7 heads}) &= \\frac{ P(\\text{7 heads | double-headed}) P(\\text{double-headed}) }{P(\\text{7 heads})} \\\\ \n",
    "    &= \\frac{1 * 1/100}{227/12800} \\\\\n",
    "    \\\\\n",
    "    &= \\frac{128}{227} \\approx 52.49\\%\n",
    "\\end{align*}"
   ]
  },
  {
   "cell_type": "markdown",
   "metadata": {},
   "source": [
    "### [20 points] Problem 2  \n",
    "***\n",
    "\n",
    "In soccer tournaments, [penalty shootouts](https://en.wikipedia.org/wiki/Penalty_shoot-out_(association_football) are used to determine the outcome of the game if the score is tied after regulation play.   In a penalty shootout, each team takes turns attempting 5 shots on the goal from the penalty mark that are defended only by the opposing team's goalkeeper, with the team that makes more successful kicks being declared the winner of the match.  If after 5 shots the score is still tied, the game enters _sudden death_ and the teams continue to take 1 shot each until one team scores and the other does not. \n",
    "\n",
    "Suppose that two teams ( Team $A$ and Team $B~$) are still tied at the end of the first round of 5 penalty shots and are entering sudden death.  Each team will now take one shot each in an attempt to win.  Suppose that the result of one shot is independent of the other shots, Team $A$ makes their shot with probability $p$, and Team $B$ makes their shot with probability $q$.  Let $W$ be the event that \"Team $A$ wins the game\", $E$ be the event that \"the game ends after the first round of sudden death penalty shots\", and $T$ be the event that \"the game is still tied after the first round of sudden death penalty shots\". \n",
    "\n",
    "**Part A**: The shootout continues until Team $A$ or Team $B$ wins.  What is the sample space $\\Omega$ for this experiment?  Represent the outcomes of individual shots by $G$ for a goal and $M$ for a miss and assume that Team $A$ shoots before Team $B$."
   ]
  },
  {
   "cell_type": "markdown",
   "metadata": {},
   "source": [
    "$\\textbf{One of $GMWE$, $MGE$, $MMTGMW$, $MMTMG$, $MMTMMGMW$, $MMTMMMG$, $MMTMMMMGMW$, ...}$"
   ]
  },
  {
   "cell_type": "markdown",
   "metadata": {},
   "source": [
    "**Part B**: Determine $P(W \\mid E)$ in terms of $p$ and $q$."
   ]
  },
  {
   "cell_type": "markdown",
   "metadata": {},
   "source": [
    "\\begin{align*}\n",
    "    P(W \\mid E) &= P(GM) \\\\\n",
    "        &= p(1-q)\n",
    "\\end{align*}"
   ]
  },
  {
   "cell_type": "markdown",
   "metadata": {},
   "source": [
    "**Part C**: Explain why events $W$ and $T$ are independent. "
   ]
  },
  {
   "cell_type": "markdown",
   "metadata": {},
   "source": [
    "**In possible outcomes where $T$ is present, $W$ is present half the time. In possible outcomes without $T$, $W$ is also present half the time.**"
   ]
  },
  {
   "cell_type": "markdown",
   "metadata": {},
   "source": [
    "**Part D**: Use the Law of Total Probability to show that $P(W) = p(1-q) + (2pq - p - q +1) ~P(W \\mid T)$. "
   ]
  },
  {
   "cell_type": "markdown",
   "metadata": {},
   "source": [
    "** Note: As W and T are independent, $P(W\\mid T) = P(W)$. **\n",
    "\n",
    "\\begin{align*}\n",
    "    P(W) &= p(1-q) + (2pq-p-q+1)P(W\\mid T) \\\\\n",
    "\\end{align*}"
   ]
  },
  {
   "cell_type": "markdown",
   "metadata": {},
   "source": [
    "**Part E**: Use the fact from **Part C** that $P(W \\mid T) = P(W)$ to determine $P(W)$ in terms of $p$ and $q$. "
   ]
  },
  {
   "cell_type": "markdown",
   "metadata": {},
   "source": [
    "** Using the same logic from part C, W and E must be independent. Therefor, we can state:**\n",
    "\n",
    "$$\n",
    "P(W\\mid T) = P(W\\mid E) = P(W) = p(1-q)\n",
    "$$"
   ]
  },
  {
   "cell_type": "markdown",
   "metadata": {},
   "source": [
    "**Part F**: Explain why the answers to **Part B** and **Part E** are the same. "
   ]
  },
  {
   "cell_type": "markdown",
   "metadata": {
    "collapsed": true
   },
   "source": [
    "**As the probability of winning is independent of either T or E, the probability of winning given T is the same as the probability of winning given E, which is the same as the pure probability of winning. **"
   ]
  },
  {
   "cell_type": "markdown",
   "metadata": {},
   "source": [
    "**Part G**: Explain the significance of the solution technique for $P(W)$ outlined in **Part D** and **Part E**.  Why did we go this route instead of computing $P(W)$ directly?  Can we always use such techniques?  "
   ]
  },
  {
   "cell_type": "markdown",
   "metadata": {},
   "source": [
    "**Using independent variables as 'filters' seems to be a useful tool, as it allows us to look at a finite number of cases instead of a potentially infinite number of cases (as we would look at trying to calculate $P(W \\mid T)$. We can, in theory, always use such techniques, as long as we are correct in stating the independece of variables. If, for instance, $P(W)$ was independent of E but was dependent on T, we might have over-zelously applied this technique.**"
   ]
  },
  {
   "cell_type": "markdown",
   "metadata": {},
   "source": [
    "### [25 points] Problem 3 \n",
    "***\n",
    "\n",
    "After Intro. Data Science lets out for the day, there are a bunch of different locations that Dan and Chris individually end up at.  Sometimes they go get dinner at the UMC ($~U~$) or coffee at Starbucks ($~S~$). Sometimes they go straight to their vehicles in the parking lot ($~P~$) and head home.  And sometimes they go back to their respective offices in the Engineering Center ($~E~$) or Fleming ($~F~$) to work. You can see the locations and paths that they take from Muenzinger ($~M~$) and between other locations on the linked [map](https://www.cs.colorado.edu/~ketelsen/files/courses/csci3022/hmwk/hmwk02/campus_map.pdf).\n",
    "\n",
    "Now, on a Wednesday after a particularly grueling start to the week, Dan and Chris leave class at Muenzinger in a bit of a daze and just sorta wander randomly between their usual haunts.  Their movement is governed by the following rule: when leaving a particular location, they randomly select one of the available paths to travel along (again, see the [map](https://www.cs.colorado.edu/~ketelsen/files/courses/csci3022/hmwk/hmwk02/campus_map.pdf)) with equal probability. "
   ]
  },
  {
   "cell_type": "markdown",
   "metadata": {},
   "source": [
    "**Part A**: Compute (by hand) the probability that Chris ends up at the Engineering Center after first visiting one other location after leaving Muenzinger. "
   ]
  },
  {
   "cell_type": "markdown",
   "metadata": {
    "collapsed": true
   },
   "source": [
    "\\begin{align*}\n",
    "    P(\\text{E | M one stop ago}) &= P(E | P | M) + P(E | U | M) \\\\\n",
    "    \\\\\n",
    "    &= \\frac{1}{2}\\frac{1}{4} + \\frac{1}{4}\\frac{1}{4} \\\\\n",
    "    \\\\\n",
    "    &= \\frac{3}{16}\n",
    "\\end{align*}"
   ]
  },
  {
   "cell_type": "markdown",
   "metadata": {},
   "source": [
    "**Part B**: Compute (by hand) the probability that Dan ends up at the UMC _either_ as his first _or_ second location visited after leaving Muenzinger. "
   ]
  },
  {
   "cell_type": "markdown",
   "metadata": {
    "collapsed": true
   },
   "source": [
    "\\begin{align*}\n",
    "    P(\\text{U | M}) \\cup P(\\text{U | M one stop ago}) &= P(U | M) + P(U | S | M) + P(U | E | M) \\\\\n",
    "    \\\\\n",
    "    &= \\frac{1}{4} + \\frac{1}{2}\\frac{1}{4} + \\frac{1}{4}\\frac{1}{4} \\\\\n",
    "    \\\\\n",
    "    &= \\frac{7}{16}\n",
    "\\end{align*}"
   ]
  },
  {
   "cell_type": "markdown",
   "metadata": {},
   "source": [
    "**Part C**: Suppose that Chris goes back to his office in the Engineering Center and Dan goes back to his office in Fleming.  Later that night they both leave their offices and wander around. You should assume that they take the same amount of time to go from location to location.  What is the probability that they run into each other in the same location on their second location visited? "
   ]
  },
  {
   "cell_type": "markdown",
   "metadata": {
    "collapsed": true
   },
   "source": [
    "\\begin{align*}\n",
    "    P(\\text{meet at second location}\\mid ChE, DaF) &= P(\\text{meet at S}) + P(\\text{meet at M}) + P(\\text{meet at U}) + P(\\text{meet at E}) + P(\\text{meet at P}) + P(\\text{meet at F}) \\\\\n",
    "    \\\\\n",
    "    P(\\text{meet at S}) &= P(\\text{Dan at S}\\mid DaF) * P(\\text{Chris at S}\\mid ChE) \\\\\n",
    "                        &= P(FU)P(US) * (P(EM)P(MS) + P(EU)P(US)) \\\\\n",
    "                        &= \\frac{1}{2}\\frac{1}{4} * (\\frac{1}{4}\\frac{1}{4} + \\frac{1}{4}\\frac{1}{4}) \\\\\n",
    "                        &= \\frac{1}{64} \\\\ \\\\  \n",
    "    P(\\text{meet at M}) &= P(\\text{Dan at M}\\mid DaF) * P(\\text{Chris at M}\\mid ChE) \\\\\n",
    "                        &= (P(FU)P(UM) + P(FE)P(EM)) * (P(EP)P(PM) + P(EU)P(UM)) \\\\\n",
    "                        &= (\\frac{1}{2}\\frac{1}{4}+\\frac{1}{2}\\frac{1}{4}) * (\\frac{1}{4}\\frac{1}{2} + \\frac{1}{4}\\frac{1}{4}) \\\\\n",
    "                        &= \\frac{3}{64} \\\\ \\\\\n",
    "    P(\\text{meet at U}) &= P(\\text{Dan at U}\\mid DaF) * P(\\text{Chris at U}\\mid ChE) \\\\\n",
    "                        &= P(FE)P(EU) * (P(EM)P(MU) + P(EF)P(FU)) \\\\\n",
    "                        &= \\frac{1}{2}\\frac{1}{4} * (\\frac{1}{4}\\frac{1}{4} + \\frac{1}{4}\\frac{1}{2}) \\\\\n",
    "                        &= \\frac{3}{128} \\\\ \\\\\n",
    "    P(\\text{meet at E}) &= P(\\text{Dan at E}\\mid DaF) * P(\\text{Chris at E}\\mid ChE) \\\\\n",
    "                        &= P(FU)P(UE) * (P(EM)P(ME) + P(EF)P(FE) + P(EU)P(UE) + P(EP)P(PE)) \\\\\n",
    "                        &= \\frac{1}{2}\\frac{1}{4} * (\\frac{1}{4}\\frac{1}{4} + \\frac{1}{4}\\frac{1}{2} + \\frac{1}{4}\\frac{1}{4} + \\frac{1}{4}\\frac{1}{2}) \\\\\n",
    "                        &= \\frac{3}{64} \\\\ \\\\\n",
    "    P(\\text{meet at P}) &= P(\\text{Dan at P}\\mid DaF) * P(\\text{Chris at P}\\mid ChE) \\\\\n",
    "                        &= P(FE)P(EP) * P(EM)P(MP) \\\\\n",
    "                        &= \\frac{1}{2}\\frac{1}{4} * \\frac{1}{4}\\frac{1}{4} \\\\\n",
    "                        &= \\frac{1}{128} \\\\ \\\\\n",
    "    P(\\text{meet at F}) &= P(\\text{Dan at F}\\mid DaF) * P(\\text{Chris at F}\\mid ChE) \\\\\n",
    "                        &= (P(FE)P(EF)+P(FU)P(UF)) * P(EU)P(UF) \\\\\n",
    "                        &= (\\frac{1}{2}\\frac{1}{4} + \\frac{1}{2}\\frac{1}{4}) * \\frac{1}{4}\\frac{1}{4} \\\\\n",
    "                        &= \\frac{1}{64} \\\\ \\\\\n",
    "    P(\\text{meet at second location}\\mid ChE, DaF) &= P(\\text{meet at S}) + P(\\text{meet at M}) + P(\\text{meet at U}) + P(\\text{meet at E}) + P(\\text{meet at P}) + P(\\text{meet at F}) \\\\\n",
    "    &= \\frac{1}{64} + \\frac{3}{64} + \\frac{3}{128} + \\frac{3}{64} + \\frac{1}{128} + \\frac{1}{64} \\\\ \\\\\n",
    "    &= \\mathbf{\\frac{5}{32}}\n",
    "\\end{align*}"
   ]
  },
  {
   "cell_type": "markdown",
   "metadata": {},
   "source": [
    "**Part D**: Write a simulation to confirm that your by-hand calculations in **Part A**, **Part B**, and **Part C** are correct. Make sure you run your simulations for enough trials that your estimates are reasonably close to your analytic results. In addition to showing your code, you should thoroughly explain in Markdown (not just in code comments) what your code is doing and why it is a reasonable approximation of the probabilities in **Part A**, **Part B**, and **Part C**.  "
   ]
  },
  {
   "cell_type": "code",
   "execution_count": 3,
   "metadata": {},
   "outputs": [
    {
     "data": {
      "image/png": "[encoded data removed]",
      "text/plain": [
       "<matplotlib.figure.Figure at 0x7f1d4417c9e8>"
      ]
     },
     "metadata": {},
     "output_type": "display_data"
    }
   ],
   "source": [
    "#Creating the map - there has to be a better way, but here we are :/\n",
    "from collections import defaultdict\n",
    "places = defaultdict(list)\n",
    "places[\"S\"].append(\"M\")\n",
    "places[\"S\"].append(\"U\")\n",
    "places[\"U\"].append(\"S\")\n",
    "places[\"U\"].append(\"M\")\n",
    "places[\"U\"].append(\"E\")\n",
    "places[\"U\"].append(\"F\")\n",
    "places[\"M\"].append(\"S\")\n",
    "places[\"M\"].append(\"U\")\n",
    "places[\"M\"].append(\"E\")\n",
    "places[\"M\"].append(\"P\")\n",
    "places[\"E\"].append(\"M\")\n",
    "places[\"E\"].append(\"U\")\n",
    "places[\"E\"].append(\"F\")\n",
    "places[\"P\"].append(\"M\")\n",
    "places[\"P\"].append(\"E\")\n",
    "places[\"F\"].append(\"U\")\n",
    "places[\"F\"].append(\"E\")\n",
    "\n",
    "\n",
    "#Part A\n",
    "first_stop = np.random.choice(places[\"M\"], size=5000)\n",
    "second_stop = np.empty(len(first_stop), dtype=\"U1\")\n",
    "p = np.zeros(len(first_stop))\n",
    "\n",
    "for ii in range(len(first_stop)):\n",
    "    second_stop[ii] = np.random.choice(places[first_stop[ii]])\n",
    "\n",
    "for ii in range(len(first_stop)):\n",
    "    p[ii] = np.sum(second_stop[:ii+1] == \"E\") / len(second_stop[:ii+1])\n",
    "    \n",
    "fig, ax = plt.subplots(figsize=(12,6))\n",
    "ax.plot(p, color=\"steelblue\")\n",
    "ax.set_title(\"Probability of Chris doing M -> x -> E\", fontsize=20)\n",
    "ax.set_xlabel(\"Number of Trials\", fontsize=16)\n",
    "ax.set_ylabel(\"Estimate of Probability\", fontsize=16)\n",
    "\n",
    "ax.grid(True, alpha=0.25)"
   ]
  },
  {
   "cell_type": "code",
   "execution_count": 4,
   "metadata": {},
   "outputs": [
    {
     "data": {
      "image/png": "[encoded data removed]",
      "text/plain": [
       "<matplotlib.figure.Figure at 0x7f1d409ab9e8>"
      ]
     },
     "metadata": {},
     "output_type": "display_data"
    }
   ],
   "source": [
    "#Part B\n",
    "first_stop = np.random.choice(places[\"M\"], size=5000)\n",
    "second_stop = np.empty(len(first_stop), dtype=\"U1\")\n",
    "p = np.zeros(len(first_stop))\n",
    "\n",
    "for ii in range(len(first_stop)):\n",
    "    second_stop[ii] = np.random.choice(places[first_stop[ii]])\n",
    "\n",
    "for ii in range(len(first_stop)):\n",
    "    p[ii] = np.sum(second_stop[:ii+1] == \"U\") / len(second_stop[:ii+1])\n",
    "    p[ii] += np.sum(first_stop[:ii+1] == \"U\") / len(first_stop[:ii+1])\n",
    "    \n",
    "fig, ax = plt.subplots(figsize=(12,6))\n",
    "ax.plot(p, color=\"steelblue\")\n",
    "ax.set_title(\"Probability of Dan doing M -> U or M-> x -> U\", fontsize=20)\n",
    "ax.set_xlabel(\"Number of Trials\", fontsize=16)\n",
    "ax.set_ylabel(\"Estimate of Probability\", fontsize=16)\n",
    "\n",
    "ax.grid(True, alpha=0.25)"
   ]
  },
  {
   "cell_type": "code",
   "execution_count": 5,
   "metadata": {},
   "outputs": [
    {
     "data": {
      "image/png": "[encoded data removed]",
      "text/plain": [
       "<matplotlib.figure.Figure at 0x7f1d4095a518>"
      ]
     },
     "metadata": {},
     "output_type": "display_data"
    }
   ],
   "source": [
    "#Part C\n",
    "sample_size = 5000\n",
    "first_stop_dan = np.random.choice(places[\"F\"], size=sample_size)\n",
    "second_stop_dan = np.empty(len(first_stop_dan), dtype=\"U1\")\n",
    "\n",
    "first_stop_chris = np.random.choice(places[\"E\"], size=sample_size)\n",
    "second_stop_chris = np.empty(len(first_stop_chris), dtype=\"U1\")\n",
    "\n",
    "for ii in range(len(first_stop_dan)):\n",
    "    second_stop_dan[ii] = np.random.choice(places[first_stop_dan[ii]])\n",
    "\n",
    "for ii in range(len(first_stop_chris)):\n",
    "    second_stop_chris[ii] = np.random.choice(places[first_stop_chris[ii]])\n",
    "    \n",
    "p = np.zeros(len(first_stop_dan))    \n",
    "for ii in range(len(first_stop_dan)):\n",
    "    p[ii] = np.sum(second_stop_dan[:ii+1] == second_stop_chris[:ii+1]) / len(second_stop_dan[:ii+1])\n",
    "    \n",
    "fig, ax = plt.subplots(figsize=(12,6))\n",
    "ax.plot(p, color=\"steelblue\")\n",
    "ax.set_title(\"Probability of Chris and Dan meeting on second stop\", fontsize=20)\n",
    "ax.set_xlabel(\"Number of Trials\", fontsize=16)\n",
    "ax.set_ylabel(\"Estimate of Probability\", fontsize=16)\n",
    "\n",
    "ax.grid(True, alpha=0.25)"
   ]
  },
  {
   "cell_type": "markdown",
   "metadata": {},
   "source": [
    "### [20 points] Problem 4 \n",
    "***\n",
    "\n",
    "In this problem you will write some code to simulate the game of **Miniopoly** (a very rough approximation of [Monopoly](https://en.wikipedia.org/wiki/Monopoly_(game)).  The game consists of a round board with 40 \"squares\" numbered from $0$ to $40$, where squares $0$ and $40$ are [coincident](https://en.wikipedia.org/wiki/Coincident) and called **GO**.  A player starts on **GO** with \\$200 in their pocket.  On each turn the player rolls a pair of dice and then moves a number of spaces equal to the sum of the dice.  Landing on different squares have different results: \n",
    "\n",
    "- Squares 2, 7, 17, 22, 33, and 36 cause you to draw a card.  The cards tell you to collect \\$50, \\$100, or \\$200, or pay the bank \\$100 or \\$150.  \n",
    "\n",
    "<p> </p>\n",
    "\n",
    "- Squares 0, 10, and 20 do not trigger any action \n",
    "\n",
    "<p> </p>\n",
    "\n",
    "- Square 30 is **Go To Jail**, which sends the player directly to **Jail** and ends the turn \n",
    "\n",
    "<p> </p>\n",
    "\n",
    "- If a player starts a turn from **Jail** she rolls two dice: \n",
    "\n",
    "    - If the player rolls doubles (i.e. the dice have equal values) the player moves from Square 10 a number of squares equal to the sum of the dice\n",
    "    \n",
    "    - If the player rolls anything other than doubles she pays the bank \\$10 and remains in **Jail** \n",
    "    \n",
    "<p> </p>\n",
    "\n",
    "- If the player passes or lands on **GO** she collects \\$200. \n",
    "\n",
    "<p> </p>\n",
    "\n",
    "- If the player lands on any other square not mentioned above, she pays the bank an amount equal to the square's number (e.g. if she lands on Square 29 she pays the bank \\$29). \n",
    "\n",
    "<p> </p>\n",
    "\n",
    "If at any point the player has \\$0 or less they go bankrupt and the game ends. \n",
    "\n",
    "<br>\n",
    "\n",
    "**Part A**: Complete the function miniopoly_turn below. The function should simulate one turn of Miniopoly.  It should take as arguments the player's current location on the board as well as the player's current cash reserves, and return the player's new location and cash reserves after the turn has completed. Note that if a player goes bankrupt during the game you should return their cash as 0 instead of a negative value.  "
   ]
  },
  {
   "cell_type": "code",
   "execution_count": 6,
   "metadata": {
    "collapsed": true,
    "scrolled": true
   },
   "outputs": [],
   "source": [
    "def miniopoly_turn(state, cash):\n",
    "    cards = [50,100,200,-100,-150]\n",
    "    \n",
    "    roll1 = np.random.choice(range(1,7))\n",
    "    roll2 = np.random.choice(range(1,7))\n",
    "    \n",
    "    roll = roll1 + roll2\n",
    "    \n",
    "    newstate = state + roll\n",
    "    newcash = cash\n",
    "    \n",
    "    # Are we in jail?\n",
    "    if(state == 30):\n",
    "        if(roll1 != roll2): # Failed saving throw\n",
    "            newstate = state\n",
    "            newcash += -10\n",
    "            return newstate, newcash # Turn over\n",
    "        else:\n",
    "            newstate = 10 + roll # Turn not over, keep executing\n",
    "    \n",
    "    # Did we just pass go?\n",
    "    if(newstate >= 40):\n",
    "        newstate += -40\n",
    "        newcash += 200\n",
    "    \n",
    "    if(newstate == 0 or newstate == 10 or newstate == 20 or newstate == 30):\n",
    "        newcash = newcash # do nothing\n",
    "    elif(newstate in (2,7,17,22,33,36)):\n",
    "        newcash += np.random.choice(cards)\n",
    "    else:\n",
    "        newcash += -newstate\n",
    "    \n",
    "    return newstate, newcash "
   ]
  },
  {
   "cell_type": "markdown",
   "metadata": {},
   "source": [
    "**Part B**: Use your function from **Part A** to Simulate at least 5000 30-turn games of Miniopoly and make a frequency histogram of the player's cash at the end of the game. "
   ]
  },
  {
   "cell_type": "code",
   "execution_count": 7,
   "metadata": {},
   "outputs": [
    {
     "data": {
      "image/png": "[encoded data removed]",
      "text/plain": [
       "<matplotlib.figure.Figure at 0x7f1d40a807b8>"
      ]
     },
     "metadata": {},
     "output_type": "display_data"
    }
   ],
   "source": [
    "end_cash = np.zeros(5000)\n",
    "for i in range(5000):\n",
    "    cash = 200\n",
    "    state = 0\n",
    "    for j in range(30):\n",
    "        if cash > 0:\n",
    "            state, cash = miniopoly_turn(state, cash)\n",
    "        else:\n",
    "            cash = 0\n",
    "    end_cash[i] = cash\n",
    "\n",
    "    \n",
    "fig, ax = plt.subplots(figsize=(12,6))\n",
    "pd.Series(data=end_cash).hist(ax=ax, facecolor=\"steelblue\", edgecolor=\"white\")\n",
    "ax.set_title(\"Money at end of 30 turn game\", fontsize=20)\n",
    "ax.set_xlabel(\"Money\", fontsize=16)\n",
    "ax.set_ylabel(\"Frequency\", fontsize=16)\n",
    "ax.grid(alpha=0.25)\n",
    "ax.set_axisbelow(True)"
   ]
  },
  {
   "cell_type": "markdown",
   "metadata": {},
   "source": [
    "**Part C**: Use your code from **Part A** to estimate the probability that a player goes bankrupt in the first 30 turns of the game. "
   ]
  },
  {
   "cell_type": "code",
   "execution_count": 8,
   "metadata": {},
   "outputs": [
    {
     "name": "stdout",
     "output_type": "stream",
     "text": [
      "Odds of going bankrupt in 30 turns or less: 22.02%\n"
     ]
    }
   ],
   "source": [
    "#RUN PART B FIRST\n",
    "bankruptPercent = (np.sum(end_cash == 0) / len(end_cash)) * 100\n",
    "print(\"Odds of going bankrupt in 30 turns or less: {0:.2f}%\".format(bankruptPercent))"
   ]
  },
  {
   "cell_type": "markdown",
   "metadata": {},
   "source": [
    "**Part D**: Use your code from **Part A** to estimate the probability that a player goes bankrupt in the first 30 turns _given_ that they went to **Jail** at least once.  Is a player more or less likely to go bankrupt if they've been to **Jail**?  "
   ]
  },
  {
   "cell_type": "code",
   "execution_count": 9,
   "metadata": {},
   "outputs": [
    {
     "name": "stdout",
     "output_type": "stream",
     "text": [
      "Odds of going bankrupt having been to jail: 7.54% \t Having not been to jail: 14.60%\n"
     ]
    }
   ],
   "source": [
    "end_cash = np.zeros(5000)\n",
    "jail = np.zeros(5000)\n",
    "for i in range(5000):\n",
    "    cash = 200\n",
    "    state = 0\n",
    "    for j in range(30):\n",
    "        if cash > 0:\n",
    "            state, cash = miniopoly_turn(state, cash)\n",
    "            if(state == 30):\n",
    "                jail[i] = 1\n",
    "        else:\n",
    "            cash = 0\n",
    "    end_cash[i] = cash\n",
    "\n",
    "jailBankrupt = np.sum(end_cash[jail == 1] == 0) / len(end_cash)\n",
    "noJailBankrupt = np.sum(end_cash[jail == 0] == 0) / len(end_cash)\n",
    "print(\"Odds of going bankrupt having been to jail: {0:.2f}% \\t Having not been to jail: {1:.2f}%\".format(jailBankrupt*100, noJailBankrupt*100))"
   ]
  },
  {
   "cell_type": "markdown",
   "metadata": {},
   "source": [
    "**Part E**: Use your code from **Part A** to estimate the probability that a player goes bankrupt in the first 30 turns _given_ that they passed **Go** two or more times.  Is a player more or less likely to go bankrupt if they've managed to pass **Go** at least twice?"
   ]
  },
  {
   "cell_type": "code",
   "execution_count": 10,
   "metadata": {},
   "outputs": [
    {
     "name": "stdout",
     "output_type": "stream",
     "text": [
      "Odds of going bankrupt having been past Go twice: 0.28%\n"
     ]
    }
   ],
   "source": [
    "end_cash = np.zeros(5000)\n",
    "go_passes = np.zeros(5000)\n",
    "for i in range(5000):\n",
    "    cash = 200\n",
    "    last_cash = 0\n",
    "    last_state = 0\n",
    "    state = 0\n",
    "    for j in range(30):\n",
    "        if cash > 0:\n",
    "            last_state, last_cash = state, cash\n",
    "            state, cash = miniopoly_turn(state, cash)\n",
    "            if((last_state != 30) and ((state + last_state) > 40) and (state < 12)):\n",
    "                go_passes[i] += 1\n",
    "        else:\n",
    "            cash = 0\n",
    "            \n",
    "    end_cash[i] = cash\n",
    "    \n",
    "goTwiceBankrupt = np.sum(end_cash[go_passes > 1] == 0) / len(end_cash)\n",
    "print(\"Odds of going bankrupt having been past Go twice: {0:.2f}%\".format(goTwiceBankrupt*100))"
   ]
  },
  {
   "cell_type": "markdown",
   "metadata": {},
   "source": [
    "### [15 points] Problem 5 \n",
    "***\n",
    "\n",
    "### Board Game Calamity! \n",
    "\n",
    "Dan and Chris have been playing board games for ages. Among the games they play a lot are Miniopoly and a similar game with slightly tweaked rules called **Fakeiopoly!**  Being Data-Nerds, they like to record the details of each game they play for future analysis.  Since the games are similar, they store the results for Miniopoly and Fakeiopoly in the same database.  Unfortunately, their data has been corrupted!  The only data that survived are the states (i.e. square numbers) they were on after each of the first 20 turns as well a the amount of cash they had on hand after each of the first 20 turns. This information is stored in the columns **S1**-**S20** and **C1**-**C20** in the following DataFrame. "
   ]
  },
  {
   "cell_type": "code",
   "execution_count": 11,
   "metadata": {},
   "outputs": [
    {
     "data": {
      "text/html": [
       "<div>\n",
       "<style>\n",
       "    .dataframe thead tr:only-child th {\n",
       "        text-align: right;\n",
       "    }\n",
       "\n",
       "    .dataframe thead th {\n",
       "        text-align: left;\n",
       "    }\n",
       "\n",
       "    .dataframe tbody tr th {\n",
       "        vertical-align: top;\n",
       "    }\n",
       "</style>\n",
       "<table border=\"1\" class=\"dataframe\">\n",
       "  <thead>\n",
       "    <tr style=\"text-align: right;\">\n",
       "      <th></th>\n",
       "      <th>S1</th>\n",
       "      <th>S2</th>\n",
       "      <th>S3</th>\n",
       "      <th>S4</th>\n",
       "      <th>S5</th>\n",
       "      <th>S6</th>\n",
       "      <th>S7</th>\n",
       "      <th>S8</th>\n",
       "      <th>S9</th>\n",
       "      <th>S10</th>\n",
       "      <th>...</th>\n",
       "      <th>C12</th>\n",
       "      <th>C13</th>\n",
       "      <th>C14</th>\n",
       "      <th>C15</th>\n",
       "      <th>C16</th>\n",
       "      <th>C17</th>\n",
       "      <th>C18</th>\n",
       "      <th>C19</th>\n",
       "      <th>C20</th>\n",
       "      <th>Game</th>\n",
       "    </tr>\n",
       "  </thead>\n",
       "  <tbody>\n",
       "    <tr>\n",
       "      <th>0</th>\n",
       "      <td>10</td>\n",
       "      <td>23</td>\n",
       "      <td>33</td>\n",
       "      <td>1</td>\n",
       "      <td>13</td>\n",
       "      <td>22</td>\n",
       "      <td>31</td>\n",
       "      <td>0</td>\n",
       "      <td>6</td>\n",
       "      <td>15</td>\n",
       "      <td>...</td>\n",
       "      <td>437</td>\n",
       "      <td>427</td>\n",
       "      <td>409</td>\n",
       "      <td>380</td>\n",
       "      <td>343</td>\n",
       "      <td>593</td>\n",
       "      <td>582</td>\n",
       "      <td>561</td>\n",
       "      <td>530</td>\n",
       "      <td>fake</td>\n",
       "    </tr>\n",
       "    <tr>\n",
       "      <th>1</th>\n",
       "      <td>4</td>\n",
       "      <td>8</td>\n",
       "      <td>15</td>\n",
       "      <td>21</td>\n",
       "      <td>29</td>\n",
       "      <td>38</td>\n",
       "      <td>3</td>\n",
       "      <td>9</td>\n",
       "      <td>18</td>\n",
       "      <td>25</td>\n",
       "      <td>...</td>\n",
       "      <td>595</td>\n",
       "      <td>584</td>\n",
       "      <td>684</td>\n",
       "      <td>657</td>\n",
       "      <td>622</td>\n",
       "      <td>819</td>\n",
       "      <td>805</td>\n",
       "      <td>705</td>\n",
       "      <td>673</td>\n",
       "      <td>fake</td>\n",
       "    </tr>\n",
       "    <tr>\n",
       "      <th>2</th>\n",
       "      <td>9</td>\n",
       "      <td>17</td>\n",
       "      <td>23</td>\n",
       "      <td>31</td>\n",
       "      <td>39</td>\n",
       "      <td>39</td>\n",
       "      <td>39</td>\n",
       "      <td>39</td>\n",
       "      <td>39</td>\n",
       "      <td>39</td>\n",
       "      <td>...</td>\n",
       "      <td>0</td>\n",
       "      <td>0</td>\n",
       "      <td>0</td>\n",
       "      <td>0</td>\n",
       "      <td>0</td>\n",
       "      <td>0</td>\n",
       "      <td>0</td>\n",
       "      <td>0</td>\n",
       "      <td>0</td>\n",
       "      <td>real</td>\n",
       "    </tr>\n",
       "    <tr>\n",
       "      <th>3</th>\n",
       "      <td>7</td>\n",
       "      <td>10</td>\n",
       "      <td>16</td>\n",
       "      <td>22</td>\n",
       "      <td>31</td>\n",
       "      <td>0</td>\n",
       "      <td>6</td>\n",
       "      <td>13</td>\n",
       "      <td>16</td>\n",
       "      <td>23</td>\n",
       "      <td>...</td>\n",
       "      <td>285</td>\n",
       "      <td>275</td>\n",
       "      <td>265</td>\n",
       "      <td>265</td>\n",
       "      <td>239</td>\n",
       "      <td>202</td>\n",
       "      <td>398</td>\n",
       "      <td>385</td>\n",
       "      <td>362</td>\n",
       "      <td>real</td>\n",
       "    </tr>\n",
       "    <tr>\n",
       "      <th>4</th>\n",
       "      <td>11</td>\n",
       "      <td>23</td>\n",
       "      <td>33</td>\n",
       "      <td>39</td>\n",
       "      <td>39</td>\n",
       "      <td>39</td>\n",
       "      <td>39</td>\n",
       "      <td>39</td>\n",
       "      <td>39</td>\n",
       "      <td>39</td>\n",
       "      <td>...</td>\n",
       "      <td>0</td>\n",
       "      <td>0</td>\n",
       "      <td>0</td>\n",
       "      <td>0</td>\n",
       "      <td>0</td>\n",
       "      <td>0</td>\n",
       "      <td>0</td>\n",
       "      <td>0</td>\n",
       "      <td>0</td>\n",
       "      <td>fake</td>\n",
       "    </tr>\n",
       "  </tbody>\n",
       "</table>\n",
       "<p>5 rows × 41 columns</p>\n",
       "</div>"
      ],
      "text/plain": [
       "   S1  S2  S3  S4  S5  S6  S7  S8  S9  S10  ...   C12  C13  C14  C15  C16  \\\n",
       "0  10  23  33   1  13  22  31   0   6   15  ...   437  427  409  380  343   \n",
       "1   4   8  15  21  29  38   3   9  18   25  ...   595  584  684  657  622   \n",
       "2   9  17  23  31  39  39  39  39  39   39  ...     0    0    0    0    0   \n",
       "3   7  10  16  22  31   0   6  13  16   23  ...   285  275  265  265  239   \n",
       "4  11  23  33  39  39  39  39  39  39   39  ...     0    0    0    0    0   \n",
       "\n",
       "   C17  C18  C19  C20  Game  \n",
       "0  593  582  561  530  fake  \n",
       "1  819  805  705  673  fake  \n",
       "2    0    0    0    0  real  \n",
       "3  202  398  385  362  real  \n",
       "4    0    0    0    0  fake  \n",
       "\n",
       "[5 rows x 41 columns]"
      ]
     },
     "execution_count": 11,
     "metadata": {},
     "output_type": "execute_result"
    }
   ],
   "source": [
    "dfLog = pd.read_csv(\"game_log.csv\") #(\"https://raw.githubusercontent.com/chrisketelsen/csci3022/master/hmwk/hmwk02/game_log.csv\")\n",
    "dfLog.head()"
   ]
  },
  {
   "cell_type": "markdown",
   "metadata": {},
   "source": [
    "You might notice that there is one extra column in the DataFrame called **Game** which describes whether they were playing Miniopoly (labeled real) or Fakeiopoly (labeled fake).  Unfortunately, the **Game** labels only survived in the first half of the DataFrame.  As you can see, the **Game** labels in the second half of the database were lost. "
   ]
  },
  {
   "cell_type": "code",
   "execution_count": 12,
   "metadata": {},
   "outputs": [
    {
     "data": {
      "text/html": [
       "<div>\n",
       "<style>\n",
       "    .dataframe thead tr:only-child th {\n",
       "        text-align: right;\n",
       "    }\n",
       "\n",
       "    .dataframe thead th {\n",
       "        text-align: left;\n",
       "    }\n",
       "\n",
       "    .dataframe tbody tr th {\n",
       "        vertical-align: top;\n",
       "    }\n",
       "</style>\n",
       "<table border=\"1\" class=\"dataframe\">\n",
       "  <thead>\n",
       "    <tr style=\"text-align: right;\">\n",
       "      <th></th>\n",
       "      <th>S1</th>\n",
       "      <th>S2</th>\n",
       "      <th>S3</th>\n",
       "      <th>S4</th>\n",
       "      <th>S5</th>\n",
       "      <th>S6</th>\n",
       "      <th>S7</th>\n",
       "      <th>S8</th>\n",
       "      <th>S9</th>\n",
       "      <th>S10</th>\n",
       "      <th>...</th>\n",
       "      <th>C12</th>\n",
       "      <th>C13</th>\n",
       "      <th>C14</th>\n",
       "      <th>C15</th>\n",
       "      <th>C16</th>\n",
       "      <th>C17</th>\n",
       "      <th>C18</th>\n",
       "      <th>C19</th>\n",
       "      <th>C20</th>\n",
       "      <th>Game</th>\n",
       "    </tr>\n",
       "  </thead>\n",
       "  <tbody>\n",
       "    <tr>\n",
       "      <th>995</th>\n",
       "      <td>5</td>\n",
       "      <td>13</td>\n",
       "      <td>20</td>\n",
       "      <td>22</td>\n",
       "      <td>32</td>\n",
       "      <td>38</td>\n",
       "      <td>7</td>\n",
       "      <td>15</td>\n",
       "      <td>28</td>\n",
       "      <td>0</td>\n",
       "      <td>...</td>\n",
       "      <td>443</td>\n",
       "      <td>420</td>\n",
       "      <td>393</td>\n",
       "      <td>358</td>\n",
       "      <td>558</td>\n",
       "      <td>408</td>\n",
       "      <td>392</td>\n",
       "      <td>364</td>\n",
       "      <td>326</td>\n",
       "      <td>NaN</td>\n",
       "    </tr>\n",
       "    <tr>\n",
       "      <th>996</th>\n",
       "      <td>8</td>\n",
       "      <td>14</td>\n",
       "      <td>18</td>\n",
       "      <td>24</td>\n",
       "      <td>32</td>\n",
       "      <td>39</td>\n",
       "      <td>6</td>\n",
       "      <td>10</td>\n",
       "      <td>14</td>\n",
       "      <td>21</td>\n",
       "      <td>...</td>\n",
       "      <td>158</td>\n",
       "      <td>119</td>\n",
       "      <td>310</td>\n",
       "      <td>292</td>\n",
       "      <td>269</td>\n",
       "      <td>240</td>\n",
       "      <td>290</td>\n",
       "      <td>484</td>\n",
       "      <td>470</td>\n",
       "      <td>NaN</td>\n",
       "    </tr>\n",
       "    <tr>\n",
       "      <th>997</th>\n",
       "      <td>7</td>\n",
       "      <td>14</td>\n",
       "      <td>19</td>\n",
       "      <td>23</td>\n",
       "      <td>33</td>\n",
       "      <td>1</td>\n",
       "      <td>8</td>\n",
       "      <td>15</td>\n",
       "      <td>26</td>\n",
       "      <td>38</td>\n",
       "      <td>...</td>\n",
       "      <td>497</td>\n",
       "      <td>484</td>\n",
       "      <td>465</td>\n",
       "      <td>436</td>\n",
       "      <td>486</td>\n",
       "      <td>686</td>\n",
       "      <td>586</td>\n",
       "      <td>571</td>\n",
       "      <td>545</td>\n",
       "      <td>NaN</td>\n",
       "    </tr>\n",
       "    <tr>\n",
       "      <th>998</th>\n",
       "      <td>5</td>\n",
       "      <td>13</td>\n",
       "      <td>22</td>\n",
       "      <td>29</td>\n",
       "      <td>38</td>\n",
       "      <td>7</td>\n",
       "      <td>16</td>\n",
       "      <td>27</td>\n",
       "      <td>37</td>\n",
       "      <td>8</td>\n",
       "      <td>...</td>\n",
       "      <td>547</td>\n",
       "      <td>520</td>\n",
       "      <td>620</td>\n",
       "      <td>817</td>\n",
       "      <td>801</td>\n",
       "      <td>778</td>\n",
       "      <td>978</td>\n",
       "      <td>1177</td>\n",
       "      <td>1164</td>\n",
       "      <td>NaN</td>\n",
       "    </tr>\n",
       "    <tr>\n",
       "      <th>999</th>\n",
       "      <td>8</td>\n",
       "      <td>13</td>\n",
       "      <td>23</td>\n",
       "      <td>30</td>\n",
       "      <td>30</td>\n",
       "      <td>30</td>\n",
       "      <td>22</td>\n",
       "      <td>28</td>\n",
       "      <td>34</td>\n",
       "      <td>38</td>\n",
       "      <td>...</td>\n",
       "      <td>536</td>\n",
       "      <td>513</td>\n",
       "      <td>482</td>\n",
       "      <td>682</td>\n",
       "      <td>674</td>\n",
       "      <td>660</td>\n",
       "      <td>639</td>\n",
       "      <td>613</td>\n",
       "      <td>579</td>\n",
       "      <td>NaN</td>\n",
       "    </tr>\n",
       "  </tbody>\n",
       "</table>\n",
       "<p>5 rows × 41 columns</p>\n",
       "</div>"
      ],
      "text/plain": [
       "     S1  S2  S3  S4  S5  S6  S7  S8  S9  S10  ...   C12  C13  C14  C15  C16  \\\n",
       "995   5  13  20  22  32  38   7  15  28    0  ...   443  420  393  358  558   \n",
       "996   8  14  18  24  32  39   6  10  14   21  ...   158  119  310  292  269   \n",
       "997   7  14  19  23  33   1   8  15  26   38  ...   497  484  465  436  486   \n",
       "998   5  13  22  29  38   7  16  27  37    8  ...   547  520  620  817  801   \n",
       "999   8  13  23  30  30  30  22  28  34   38  ...   536  513  482  682  674   \n",
       "\n",
       "     C17  C18   C19   C20  Game  \n",
       "995  408  392   364   326   NaN  \n",
       "996  240  290   484   470   NaN  \n",
       "997  686  586   571   545   NaN  \n",
       "998  778  978  1177  1164   NaN  \n",
       "999  660  639   613   579   NaN  \n",
       "\n",
       "[5 rows x 41 columns]"
      ]
     },
     "execution_count": 12,
     "metadata": {},
     "output_type": "execute_result"
    }
   ],
   "source": [
    "dfLog.tail()"
   ]
  },
  {
   "cell_type": "markdown",
   "metadata": {},
   "source": [
    "While they can deal with the loss of information about later turns, doing any kind of meaningful analysis on the data requires knowledge of which game they were playing.  Your job is to see if you can reconstruct the missing **Game** labels in the second half of the DataFrame.  \n",
    "\n",
    "Sadly, Fakeiopoly was a game of their own invention, and the rules were among the lost data.  But, being budding data scientists, you can probably glean some insights into the non-standard rules by exploring the data with intact labels in the first half of the DataFrame. \n",
    "\n",
    "**Part A**: Complete the function predict_game_log below to predict whether each game in the DataFrame is real or fake.  To help you, we've provided a score function that reports the accuracy of your predictions on the rows that have intact labels.  \n",
    "\n",
    "OK, here are the **rules**: \n",
    "\n",
    "- You may **NOT** load any external libraries beyond Pandas, Numpy, and Matplotlib.  Instead of fancy Machine Learning techniques you may have picked up on the streets, you'll have to rely on your probability, heuristics, and exploratory data analysis skills. \n",
    "- You may write any additional functions you like, but you should **NOT** change the way that predict_game_log is called or what it returns. \n",
    "\n",
    "And some final **guidance**: \n",
    "\n",
    "- While we hope you do well, and obtain great accuracies, we're more interested in seeing how you approach the problem.  As part of your solution you should describe in detail how you based your predictions.  A solution with high accuracy and no justification of you approach may receive a low score, while a solution with mediocre accuracy and good justification may receive a high score.  What aspects of the data lead you to believe that your approach might be successful? Supporting evidence might include graphical summaries of the data and extensive description of trial and error. "
   ]
  },
  {
   "cell_type": "code",
   "execution_count": 13,
   "metadata": {
    "collapsed": true
   },
   "outputs": [],
   "source": [
    "def predict_game_log():\n",
    "    '''\n",
    "    Function to read in the corrupted DataFrame and make predictions\n",
    "    about which game is associated with each sequence of states \n",
    "    and cash values.  You should store your predictions (\"real\"/\"fake\")\n",
    "    in the column \"Prediction\" in the DataFrame. \n",
    "    '''\n",
    "    \n",
    "    dfPredict = pd.read_csv(\"game_log.csv\")#(\"https://raw.githubusercontent.com/chrisketelsen/csci3022/master/hmwk/hmwk02/game_log.csv\")\n",
    "    \n",
    "    for index, row in dfPredict.iterrows():\n",
    "        isInvalid = False\n",
    "        for i in range(1, 20):\n",
    "            if(is_invalid_move(row[i], row[i-1], (row[i+20]-row[i+19]), row[i+20])):\n",
    "                isInvalid = True\n",
    "        \n",
    "        dfPredict.loc[dfPredict.index[index], \"Prediction\"] = \"fake\" if isInvalid else \"real\"\n",
    "    \n",
    "    return dfPredict \n",
    "\n",
    "#predict_game_log()"
   ]
  },
  {
   "cell_type": "code",
   "execution_count": 14,
   "metadata": {
    "collapsed": true
   },
   "outputs": [],
   "source": [
    "def score(df):\n",
    "    '''\n",
    "    Function to score your predictions on the labeled game data. \n",
    "    '''\n",
    "    num_samples = len(df.loc[pd.notnull(df[\"Game\"])])\n",
    "    num_correct = np.sum(df.loc[pd.notnull(df[\"Game\"]), \"Game\"] == df.loc[pd.notnull(df[\"Game\"]), \"Prediction\"])\n",
    "    print(\"accuracy on labeled data: {}\".format(num_correct / num_samples))"
   ]
  },
  {
   "cell_type": "markdown",
   "metadata": {
    "collapsed": true
   },
   "source": [
    "**Let's start by looking at how the rules might differ in edge cases (Passing go, amount lost while in jail, states where it's legal to gain money): **"
   ]
  },
  {
   "cell_type": "code",
   "execution_count": 25,
   "metadata": {},
   "outputs": [
    {
     "data": {
      "text/plain": [
       "count     257.000000\n",
       "mean      637.112840\n",
       "std       340.379945\n",
       "min         0.000000\n",
       "25%       439.000000\n",
       "50%       650.000000\n",
       "75%       868.000000\n",
       "max      1696.000000\n",
       "Name: C20, dtype: float64"
      ]
     },
     "execution_count": 25,
     "metadata": {},
     "output_type": "execute_result"
    },
    {
     "data": {
      "image/png": "[encoded data removed]",
      "text/plain": [
       "<matplotlib.figure.Figure at 0x7f1d405435f8>"
      ]
     },
     "metadata": {},
     "output_type": "display_data"
    }
   ],
   "source": [
    "dfFakes = pd.read_csv(\"game_log.csv\")\n",
    "dfFakes = dfFakes.loc[dfFakes[\"Game\"]=='fake']\n",
    "\n",
    "fig, ax = plt.subplots(figsize=(12,6))\n",
    "pd.Series(data=dfFakes.loc[:, \"C20\"]).hist(ax=ax, facecolor=\"steelblue\", edgecolor=\"white\")\n",
    "ax.set_title(\"Money at end of 30 turn game\", fontsize=20)\n",
    "ax.set_xlabel(\"Money\", fontsize=16)\n",
    "ax.set_ylabel(\"Frequency\", fontsize=16)\n",
    "ax.grid(alpha=0.25)\n",
    "ax.set_axisbelow(True)\n",
    "dfFakes.loc[:, \"C20\"].describe()"
   ]
  },
  {
   "cell_type": "markdown",
   "metadata": {},
   "source": [
    "** Looks like we end up bankrupt much less, but also have a lower average. Are we gaining money from any squares other than 2,7,17,22,33, and 36? **"
   ]
  },
  {
   "cell_type": "markdown",
   "metadata": {},
   "source": [
    "**[Extra Credit] Part B**: Based on your exploratory data analysis, can you predict how the rules of Fakeiopoly differ from Miniopoly?  Be sure to thoroughly justify your conclusions. "
   ]
  },
  {
   "cell_type": "markdown",
   "metadata": {
    "collapsed": true
   },
   "source": [
    "****"
   ]
  }
 ],
 "metadata": {
  "kernelspec": {
   "display_name": "Python 3",
   "language": "python",
   "name": "python3"
  },
  "language_info": {
   "codemirror_mode": {
    "name": "ipython",
    "version": 3
   },
   "file_extension": ".py",
   "mimetype": "text/x-python",
   "name": "python",
   "nbconvert_exporter": "python",
   "pygments_lexer": "ipython3",
   "version": "3.6.1"
  }
 },
 "nbformat": 4,
 "nbformat_minor": 2
}
