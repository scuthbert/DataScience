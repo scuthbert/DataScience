{
 "cells": [
  {
   "cell_type": "markdown",
   "metadata": {},
   "source": [
    "# Homework 6: Hypothesis Testing, P-Hacking, and Simple Linear Regression \n",
    "***\n",
    "\n",
    "**Name**: Sam Cuthbertson\n",
    "\n",
    "**Section**: 001\n",
    "***\n",
    "\n",
    "This assignment is due on Moodle by **5pm on Friday December 1st**. Your solutions to theoretical questions should be done in Markdown/MathJax directly below the associated question.  Your solutions to computational questions should include any specified Python code and results as well as written commentary on your conclusions.  Remember that you are encouraged to discuss the problems with your instructors and classmates, but **you must write all code and solutions on your own**.  For a refresher on the course **Collaboration Policy** click [here](https://github.com/chrisketelsen/csci3022/blob/master/resources/syllabus.md#collaboration-policy).  \n",
    "\n",
    "**NOTES**: \n",
    "\n",
    "- Do **NOT** load or use any Python packages that are not available in Anaconda 3.6. \n",
    "- Some problems with code may be autograded.  If we provide a function API **do not** change it.  If we do not provide a function API then you're free to structure your code however you like. \n",
    "- Because you can technically evaluate notebook cells is a non-linear order, it's a good idea to do Cell $\\rightarrow$ Run All as a check before submitting your solutions.  That way if we need to run your code you will know that it will work as expected. \n",
    "- Submit only this Jupyter notebook to Moodle.  Do not compress it using tar, rar, zip, etc. "
   ]
  },
  {
   "cell_type": "code",
   "execution_count": 1,
   "metadata": {
    "collapsed": true,
    "scrolled": true
   },
   "outputs": [],
   "source": [
    "import numpy as np\n",
    "import matplotlib.pylab as plt\n",
    "import pandas as pd\n",
    "from scipy import stats \n",
    "%matplotlib inline"
   ]
  },
  {
   "cell_type": "markdown",
   "metadata": {},
   "source": [
    "### [15 points] Problem 1 - Hypothesis Testing: Find-the-Knowledge-Bug \n",
    "***\n",
    "\n",
    "As part of your job as a seasoned data science consultant, companies often bring you in to supervise their less-experienced data science teams before new product roll-outs.  One one such occasion, you are hired by a medium-sized internet-sales company that is preparing to release a new line of smart-home products.  Prior to their product release the company wants to do a targeted ad campaign to drive traffic to their site on launch day. \n",
    "\n",
    "You are asked to pair-up and do some inference work with a new employee named Stevey McKnowsNoStats. At various points in your day you catch Stevey making the following mistakes.  In each case, clearly explain to Stevey why his testing setup or conclusion is incorrect. "
   ]
  },
  {
   "cell_type": "markdown",
   "metadata": {},
   "source": [
    "**Part A**: Stevey has pulled up some data on the characteristics of customers that visited the company's website over the previous month.  He wants to perform an analysis on the mean age of customers that visit the site.  Let $X$ be the random variable describing the age of a site visitor and suppose that the population mean for $X$ is $\\mu$. In particular, Stevey wants to see if the data suggests that the mean age of their customers is under 30 years old.   He decides to perform the test with a null hypothesis of $H_0: \\bar{x} = 30$. "
   ]
  },
  {
   "cell_type": "markdown",
   "metadata": {
    "collapsed": true
   },
   "source": [
    "**Oh no, Stevey. We should be writing hypotheses about the value of our population mean ( $\\mu$ ) not of our sample mean ( $\\bar{x}$ ). You're looking for $H_0 \\: : \\: \\mu = 30$**"
   ]
  },
  {
   "cell_type": "markdown",
   "metadata": {},
   "source": [
    "**Part B**: After the wonderful explanation you gave him after the previous debacle, Stevey has seen the error in his ways and decides instead to do his hypothesis test with a null hypothesis of $H_0: \\mu < 30$.  "
   ]
  },
  {
   "cell_type": "markdown",
   "metadata": {
    "collapsed": true
   },
   "source": [
    "**Stevey, you're adjacent to right - that'll be a great $H_1$. However, we want the null hypothesis to be what we're _not_ looking for, and we're looking to see if $\\mu < 30$ is true. **"
   ]
  },
  {
   "cell_type": "markdown",
   "metadata": {},
   "source": [
    "**Part C**: Finally on track with reasonable hypotheses of $H_0: \\mu = 30$ and $H_1: \\mu < 30$, Stevey computes a normalized test-statistic of $z = -1.35$ for the mean age and concludes that since $z = -1.35 < 0.05$ there is sufficient statistical evidence at the $\\alpha = 0.05$ significance level that the mean age of their customers is less than 30.  "
   ]
  },
  {
   "cell_type": "markdown",
   "metadata": {
    "collapsed": true
   },
   "source": [
    "**Stevey, we're getting closer! Now you just need to use that test-statistic to compute a p-value! Until you do that, though, we can't compare to $\\alpha$.**"
   ]
  },
  {
   "cell_type": "markdown",
   "metadata": {},
   "source": [
    "**Part D**: This time, with the hypotheses again $H_0: \\mu = 30$ and $H_1: \\mu < 30$, Stevey computes a p-value of $0.03$, and thus concludes that there is only a 3% probability that the null hypothesis is true. "
   ]
  },
  {
   "cell_type": "markdown",
   "metadata": {
    "collapsed": true
   },
   "source": [
    "**Not quite, Stevey. Not quite. The conclusion you're looking for is \"There is sufficient statistical evidence at the $\\alpha = 0.03$ signifigance level that the mean age of customers is less than 30.\"**"
   ]
  },
  {
   "cell_type": "markdown",
   "metadata": {},
   "source": [
    "### [10 points] Problem 2 - Scientists vs. P-Values \n",
    "***\n",
    "\n",
    "Read the following article from **FiveThirtyEight**: [Statisticians Found One Thing They Can Agree On: It's Time to Stop Misusing P-Values](http://fivethirtyeight.com/features/statisticians-found-one-thing-they-can-agree-on-its-time-to-stop-misusing-p-values/). In what ways are scientists misusing p-values?  What suggestions are being made to use them properly? "
   ]
  },
  {
   "cell_type": "markdown",
   "metadata": {
    "collapsed": true
   },
   "source": [
    "**The most common misuse is apparently using p-values as a binary signal: either your results are signifigant, or they aren't. The suggestion to fix this misconception is to use p-values for what they are, and to read them as analog inputs. This allows much more in depth inference, and helps combat 'p-hacking' in order to get your p-values below an arbritrary threshold. **"
   ]
  },
  {
   "cell_type": "markdown",
   "metadata": {},
   "source": [
    "### [20 points] Problem 3 - Evaluating Pizza Delivery Performance \n",
    "***\n",
    "\n",
    "The manager of a pizza chain with multiple locations likes to keep meticulous data on his pizza deliveries.  The data from more than 1200 deliveries in May 2014 is stored in pizza.csv. Load this data into a Pandas DataFrame. "
   ]
  },
  {
   "cell_type": "code",
   "execution_count": 2,
   "metadata": {},
   "outputs": [
    {
     "name": "stdout",
     "output_type": "stream",
     "text": [
      "<class 'pandas.core.frame.DataFrame'>\n",
      "RangeIndex: 1266 entries, 0 to 1265\n",
      "Data columns (total 9 columns):\n",
      "day            1266 non-null object\n",
      "date           1266 non-null object\n",
      "time           1266 non-null float64\n",
      "operator       1266 non-null object\n",
      "branch         1266 non-null object\n",
      "driver         1266 non-null object\n",
      "temperature    1266 non-null float64\n",
      "bill           1266 non-null float64\n",
      "pizzas         1266 non-null int64\n",
      "dtypes: float64(3), int64(1), object(5)\n",
      "memory usage: 89.1+ KB\n"
     ]
    },
    {
     "data": {
      "text/html": [
       "<div>\n",
       "<style>\n",
       "    .dataframe thead tr:only-child th {\n",
       "        text-align: right;\n",
       "    }\n",
       "\n",
       "    .dataframe thead th {\n",
       "        text-align: left;\n",
       "    }\n",
       "\n",
       "    .dataframe tbody tr th {\n",
       "        vertical-align: top;\n",
       "    }\n",
       "</style>\n",
       "<table border=\"1\" class=\"dataframe\">\n",
       "  <thead>\n",
       "    <tr style=\"text-align: right;\">\n",
       "      <th></th>\n",
       "      <th>day</th>\n",
       "      <th>date</th>\n",
       "      <th>time</th>\n",
       "      <th>operator</th>\n",
       "      <th>branch</th>\n",
       "      <th>driver</th>\n",
       "      <th>temperature</th>\n",
       "      <th>bill</th>\n",
       "      <th>pizzas</th>\n",
       "    </tr>\n",
       "  </thead>\n",
       "  <tbody>\n",
       "    <tr>\n",
       "      <th>0</th>\n",
       "      <td>Thursday</td>\n",
       "      <td>01-May-14</td>\n",
       "      <td>33.708636</td>\n",
       "      <td>Laura</td>\n",
       "      <td>East</td>\n",
       "      <td>Bruno</td>\n",
       "      <td>71.433084</td>\n",
       "      <td>58.4</td>\n",
       "      <td>4</td>\n",
       "    </tr>\n",
       "    <tr>\n",
       "      <th>1</th>\n",
       "      <td>Thursday</td>\n",
       "      <td>01-May-14</td>\n",
       "      <td>29.382070</td>\n",
       "      <td>Melissa</td>\n",
       "      <td>East</td>\n",
       "      <td>Salvatore</td>\n",
       "      <td>64.952920</td>\n",
       "      <td>26.4</td>\n",
       "      <td>2</td>\n",
       "    </tr>\n",
       "    <tr>\n",
       "      <th>2</th>\n",
       "      <td>Thursday</td>\n",
       "      <td>01-May-14</td>\n",
       "      <td>33.580664</td>\n",
       "      <td>Melissa</td>\n",
       "      <td>West</td>\n",
       "      <td>Salvatore</td>\n",
       "      <td>49.113452</td>\n",
       "      <td>58.1</td>\n",
       "      <td>3</td>\n",
       "    </tr>\n",
       "    <tr>\n",
       "      <th>3</th>\n",
       "      <td>Thursday</td>\n",
       "      <td>01-May-14</td>\n",
       "      <td>32.505369</td>\n",
       "      <td>Melissa</td>\n",
       "      <td>East</td>\n",
       "      <td>Salvatore</td>\n",
       "      <td>64.872559</td>\n",
       "      <td>35.2</td>\n",
       "      <td>3</td>\n",
       "    </tr>\n",
       "    <tr>\n",
       "      <th>4</th>\n",
       "      <td>Thursday</td>\n",
       "      <td>01-May-14</td>\n",
       "      <td>25.493613</td>\n",
       "      <td>Melissa</td>\n",
       "      <td>West</td>\n",
       "      <td>Salvatore</td>\n",
       "      <td>59.630052</td>\n",
       "      <td>38.4</td>\n",
       "      <td>2</td>\n",
       "    </tr>\n",
       "  </tbody>\n",
       "</table>\n",
       "</div>"
      ],
      "text/plain": [
       "        day       date       time operator branch     driver  temperature  \\\n",
       "0  Thursday  01-May-14  33.708636    Laura   East      Bruno    71.433084   \n",
       "1  Thursday  01-May-14  29.382070  Melissa   East  Salvatore    64.952920   \n",
       "2  Thursday  01-May-14  33.580664  Melissa   West  Salvatore    49.113452   \n",
       "3  Thursday  01-May-14  32.505369  Melissa   East  Salvatore    64.872559   \n",
       "4  Thursday  01-May-14  25.493613  Melissa   West  Salvatore    59.630052   \n",
       "\n",
       "   bill  pizzas  \n",
       "0  58.4       4  \n",
       "1  26.4       2  \n",
       "2  58.1       3  \n",
       "3  35.2       3  \n",
       "4  38.4       2  "
      ]
     },
     "execution_count": 2,
     "metadata": {},
     "output_type": "execute_result"
    }
   ],
   "source": [
    "dfPizza = pd.read_csv(\"data/pizza.csv\")\n",
    "dfPizza.info()\n",
    "dfPizza.head()"
   ]
  },
  {
   "cell_type": "markdown",
   "metadata": {},
   "source": [
    "**Part A**: The manager's goal is to have an average delivery time across all branches of less than 30 minutes.  Perform an appropriate hypothesis test at the $\\alpha=0.05$ significance level to evaluate whether this goal has been achieved.  Be sure to clearly state your null and alternate hypothesis, describe your testing procedure, and show all calculations in Python. "
   ]
  },
  {
   "cell_type": "markdown",
   "metadata": {},
   "source": [
    "**Hey Stevey, what should our hypotheses be? Oh, the ones you had above? Perfect. **\n",
    "\n",
    "$$\n",
    "\\begin{align}\n",
    "    H_0 &:& \\mu &= 30 \\\\\n",
    "    H_1 &:& \\mu &< 30 \n",
    "\\end{align}\n",
    "$$\n",
    "\n",
    "** Additionally, since we have far more than 30 data points, the central limit theorum applies and we are safe assuming that data approximates the normal distribution. With all that in mind, we can calculate a p-value with the following: **"
   ]
  },
  {
   "cell_type": "code",
   "execution_count": 3,
   "metadata": {},
   "outputs": [
    {
     "name": "stdout",
     "output_type": "stream",
     "text": [
      "p-value: 0.000755764448788\n"
     ]
    }
   ],
   "source": [
    "z = (np.mean(dfPizza[\"time\"]) - 30) / (np.std(dfPizza[\"time\"])/np.sqrt(len(dfPizza[\"time\"])))\n",
    "p = stats.norm.cdf(z)\n",
    "print(\"p-value:\", p)"
   ]
  },
  {
   "cell_type": "markdown",
   "metadata": {},
   "source": [
    "**As $0.0007 < 0.05$, there is statistically signifigant evidence at the $\\alpha = 0.05$ level that average delivery time across all branches is less than 30 minutes.**"
   ]
  },
  {
   "cell_type": "markdown",
   "metadata": {},
   "source": [
    "**Part B**: The manager also has the goal of having an average delivery temperature across all branches of greater than 65F.  Perform an appropriate hypothesis test at the $\\alpha=0.05$ significance level to evaluate whether this goal has been achieved.  Be sure to clearly state your null and alternate hypothesis, describe your testing procedure, and show all calculations in Python. "
   ]
  },
  {
   "cell_type": "markdown",
   "metadata": {
    "collapsed": true
   },
   "source": [
    "**Using similar logic to above:**"
   ]
  },
  {
   "cell_type": "code",
   "execution_count": 4,
   "metadata": {},
   "outputs": [
    {
     "name": "stdout",
     "output_type": "stream",
     "text": [
      "p-value: 0.0833884332991\n"
     ]
    }
   ],
   "source": [
    "z = (65 - np.mean(dfPizza[\"temperature\"])) / (np.std(dfPizza[\"temperature\"])/np.sqrt(len(dfPizza[\"temperature\"])))\n",
    "p = stats.norm.cdf(z)\n",
    "print(\"p-value:\", p)"
   ]
  },
  {
   "cell_type": "markdown",
   "metadata": {},
   "source": [
    "**As $0.08 \\not\\leq 0.05$, there is not statistically signifigant evidence at the $\\alpha = 0.05$ level that average temperature at delivery time across all branches is greater than 65F.**"
   ]
  },
  {
   "cell_type": "markdown",
   "metadata": {},
   "source": [
    "**Part C**: The manager has enough money to give one of his delivery drivers a raise based on good performance. He knows from the data that his two best drivers are Mario and Luigi, but he's not sure if there is evidence that either one is better than the other.  Using delivery time and temperature as the criteria, perform any necessary hypothesis tests at the $\\alpha = 0.05$ significance level, to determine if one of the drivers deserves a raise. Be sure to clearly describe your hypotheses and methodology, and show any relevant computations in Python. "
   ]
  },
  {
   "cell_type": "markdown",
   "metadata": {},
   "source": [
    "**In order to determine if one driver is statistically signifigantly better than the other in the given metrics, we will perform two hypothesis tests: one on the diffrence of tempatures, and one on the diffrence of delivery times. Our hypotheses are as follows: **"
   ]
  },
  {
   "cell_type": "markdown",
   "metadata": {},
   "source": [
    "**Temperature Test:**\n",
    "$$\n",
    "\\begin{align*}\n",
    "    H_0 &:& temp_m - temp_l &= 0 \\\\\n",
    "    H_1 &:& temp_m - temp_l &\\neq 0\n",
    "\\end{align*}\n",
    "$$\n",
    "\n",
    "**Time Test:**\n",
    "$$\n",
    "\\begin{align*}\n",
    "    H_0 &:& time_m - time_l &= 0 \\\\\n",
    "    H_1 &:& time_m - time_l &\\neq 0\n",
    "\\end{align*}\n",
    "$$"
   ]
  },
  {
   "cell_type": "code",
   "execution_count": 5,
   "metadata": {},
   "outputs": [
    {
     "name": "stdout",
     "output_type": "stream",
     "text": [
      "Avg Temperature p-value: 0.337376560743\n",
      "Avg Time p-value: 0.996506274376\n"
     ]
    }
   ],
   "source": [
    "dfMario = dfPizza.loc[dfPizza['driver'] == 'Mario']\n",
    "dfLuigi = dfPizza.loc[dfPizza['driver'] == 'Luigi']\n",
    "\n",
    "m_avg_t = np.mean(dfMario['temperature'])\n",
    "l_avg_t = np.mean(dfLuigi['temperature'])\n",
    "m_std_t = np.std(dfMario['temperature'])\n",
    "l_std_t = np.std(dfLuigi['temperature'])\n",
    "m_len_t = len(dfMario['temperature'])\n",
    "l_len_t = len(dfLuigi['temperature'])\n",
    "\n",
    "z1 = (m_avg_t - l_avg_t) / np.sqrt((m_std_t**2 / m_len_t) + (l_std_t**2 / l_len_t))\n",
    "pval = 2*min(stats.norm.cdf(z1), 1-stats.norm.cdf(z1))\n",
    "print(\"Avg Temperature p-value:\", pval)\n",
    "\n",
    "m_avg_ti = np.mean(dfMario['time'])\n",
    "l_avg_ti = np.mean(dfLuigi['time'])\n",
    "m_std_ti = np.std(dfMario['time'])\n",
    "l_std_ti = np.std(dfLuigi['time'])\n",
    "m_len_ti = len(dfMario['time'])\n",
    "l_len_ti = len(dfLuigi['time'])\n",
    "\n",
    "z2 = (m_avg_ti - l_avg_ti) / np.sqrt((m_std_ti**2 / m_len_ti) + (l_std_ti**2 / l_len_ti))\n",
    "pval = 2*min(stats.norm.cdf(z2), 1-stats.norm.cdf(z2))\n",
    "print(\"Avg Time p-value:\", pval)"
   ]
  },
  {
   "cell_type": "markdown",
   "metadata": {},
   "source": [
    "**As neither p-value is below 0.05, neither driver is statistically signifigantly better than the other at any of the given metrics at the $\\alpha = 0.05$ signifigance level.**"
   ]
  },
  {
   "cell_type": "markdown",
   "metadata": {},
   "source": [
    "**Part D**: On the other hand, the manager suspects that Salvatore has been underperforming as a driver.  The manager has a policy that if a pizza takes 40 minutes or longer to be delivered, he has to fork over a free bottle of wine.  This policy is only financially viable for the pizza chain if they have give out free wine on less than 5% of all pizza deliveries.  Perform a hypothesis test at the $\\alpha = 0.05$ significance level to determine if there is significant evidence that the proportion of Salvatore's deliveries that take longer than 40 minutes is greater than 5%.  "
   ]
  },
  {
   "cell_type": "code",
   "execution_count": 6,
   "metadata": {},
   "outputs": [
    {
     "name": "stdout",
     "output_type": "stream",
     "text": [
      "Time Greater than 40 p-value: 0.992531594507\n"
     ]
    }
   ],
   "source": [
    "dfSalvatore = dfPizza.loc[dfPizza[\"driver\"] == \"Salvatore\"]\n",
    "proportion = np.sum(dfSalvatore[\"time\"] > 40) / len(dfSalvatore[\"time\"])\n",
    "\n",
    "z = (proportion - 0.05) / np.sqrt( (0.05)*(1-0.05) / np.sum(dfSalvatore[\"time\"]))\n",
    "pval = stats.norm.cdf(z)\n",
    "print(\"Time Greater than 40 p-value:\", pval)"
   ]
  },
  {
   "cell_type": "markdown",
   "metadata": {},
   "source": [
    "### [15 points] Problem 4 - Naps vs Coffee for Memory? \n",
    "***\n",
    "\n",
    "The consumption of coffee to benefit alertness is a common activity practiced by 90% of adults in North America. Often coffee is used to replace the need for sleep. One recent study compares students’ ability to recall memorized information after either the consumption of coffee or a brief nap. A random sample of 24 adults\n",
    "were randomly divided into two groups and verbally given a list\n",
    "of 25 words to memorize. During a break, one of the groups took a nap for an hour and a half,\n",
    "another group stayed awake and were given a coffee an hour prior to testing. Researchers measured the number of words participants were\n",
    "able to recall following the break. The summary statistics for the two groups are shown below.\n",
    "\n",
    "$$\n",
    "\\begin{array}{c|c|c|c}\n",
    "\\textrm{Group} & \\textrm{Sample Size} & \\textrm{Mean} & \\textrm{Standard Deviation} \\\\\n",
    "\\hline \n",
    "\\textrm{Nap} & 12 & 15.5 & 3.2 \\\\ \n",
    "\\textrm{Coffee} & 12 & 12.25 & 3.1 \\\\ \n",
    "\\end{array}\n",
    "$$\n",
    "\n",
    "In previous experiments the mean recall measurement was found to be normally distributed. \n",
    "\n",
    "**Part A**: Compute a 95% t-confidence interval for the mean recall measurement for participants that took a nap before the test. Do all computations in Python. "
   ]
  },
  {
   "cell_type": "code",
   "execution_count": 7,
   "metadata": {},
   "outputs": [
    {
     "name": "stdout",
     "output_type": "stream",
     "text": [
      "[13.46681700054998, 17.53318299945002]\n"
     ]
    }
   ],
   "source": [
    "tdiff = stats.t.ppf(0.05/2, 11) * (3.2 / np.sqrt(12))\n",
    "CI = [15.5 + tdiff, 15.5 - tdiff]\n",
    "print(CI)"
   ]
  },
  {
   "cell_type": "markdown",
   "metadata": {},
   "source": [
    "**Part B**: Is there sufficient evidence, at the $\\alpha = 0.5$ significance level, to conclude that taking a nap promotes better memory recall that drinking coffee?  Be sure to clearly explain the test that you're doing and state all hypotheses. Do all computations in Python. "
   ]
  },
  {
   "cell_type": "markdown",
   "metadata": {
    "collapsed": true
   },
   "source": [
    "**This is very similar to the pizza delivery problem above, with hypotheses as follows:**\n",
    "\n",
    "$$\n",
    "\\begin{align*}\n",
    "    H_0 &:& nap\\_{score} - coffee\\_{score} &= 0 \\\\\n",
    "    H_1 &:& nap\\_{score} - coffee\\_{score} &> 0\n",
    "\\end{align*}\n",
    "$$"
   ]
  },
  {
   "cell_type": "code",
   "execution_count": 8,
   "metadata": {},
   "outputs": [
    {
     "name": "stdout",
     "output_type": "stream",
     "text": [
      "Score Difference p-value: 0.0140632360114\n"
     ]
    }
   ],
   "source": [
    "z = (15.5 - 12.25) / np.sqrt((3.2**2 / 12) + (3.1**2 / 12))\n",
    "pval = 1-stats.t.cdf(z, 11)\n",
    "print(\"Score Difference p-value:\", pval)"
   ]
  },
  {
   "cell_type": "markdown",
   "metadata": {},
   "source": [
    "**Napping is evidently better at the $\\alpha = 0.5$ level.**"
   ]
  },
  {
   "cell_type": "markdown",
   "metadata": {},
   "source": [
    "**Part C**: Compute a 95% confidence interval for the standard deviation of memory recall for coffee drinkers. Do all computations in Python.  "
   ]
  },
  {
   "cell_type": "code",
   "execution_count": 9,
   "metadata": {},
   "outputs": [
    {
     "name": "stdout",
     "output_type": "stream",
     "text": [
      "[10.280353969282793, 14.219646030717207]\n"
     ]
    }
   ],
   "source": [
    "tdiff = stats.t.ppf(0.05/2, 11) * (3.1 / np.sqrt(12))\n",
    "CI = [12.25 + tdiff, 12.25 - tdiff]\n",
    "print(CI)"
   ]
  },
  {
   "cell_type": "markdown",
   "metadata": {},
   "source": [
    "### [20 points] Problem 5 - Bad Science for Fun and Profit \n",
    "***\n",
    "\n",
    "[Data Dredging](https://en.wikipedia.org/wiki/Data_dredging) and [p-hacking](https://www.explainxkcd.com/wiki/index.php/882:_Significant) are umbrella terms for the dangerous practice of automatically testing a large number of hypotheses on the entirety or subsets of a single dataset in order to find statistically significant results. In this exercise we will focus on the idea of testing hypotheses on subsets of a single data set.  \n",
    "\n",
    "Johnny Nefarious has landed his first data science internship at an online marketing firm.  His primary summer project has been to design and test a new email advertisement for his company's best-selling product. To test his advertisement his supervisors have allowed him to send his ad to 4 targeted customer groups of 50 people every day for a month. \n",
    "\n",
    "The effectiveness of online advertising is typically measured by the ad's [click-through rate](https://en.wikipedia.org/wiki/Click-through_rate) (CTR), which is defined to be the _proportion_ of users that click on an advertisement. The company's standard email advertisement has a CTR of $0.05$.  Johnny is hoping to land a permanent position at the company when he graduates, so he's **really** motivated to show his supervisors that the CTR of his email advertisement is a (statistically) significant improvement over their previous ad. \n",
    "\n",
    "The data from Johnny's summer experiment can be found in email.csv. Load this dataset into Pandas. "
   ]
  },
  {
   "cell_type": "code",
   "execution_count": 10,
   "metadata": {},
   "outputs": [
    {
     "name": "stdout",
     "output_type": "stream",
     "text": [
      "<class 'pandas.core.frame.DataFrame'>\n",
      "RangeIndex: 124 entries, 0 to 123\n",
      "Data columns (total 4 columns):\n",
      "Group      124 non-null int64\n",
      "Date       63 non-null object\n",
      "Sent       124 non-null int64\n",
      "Clicked    124 non-null int64\n",
      "dtypes: int64(3), object(1)\n",
      "memory usage: 4.0+ KB\n"
     ]
    },
    {
     "data": {
      "text/html": [
       "<div>\n",
       "<style>\n",
       "    .dataframe thead tr:only-child th {\n",
       "        text-align: right;\n",
       "    }\n",
       "\n",
       "    .dataframe thead th {\n",
       "        text-align: left;\n",
       "    }\n",
       "\n",
       "    .dataframe tbody tr th {\n",
       "        vertical-align: top;\n",
       "    }\n",
       "</style>\n",
       "<table border=\"1\" class=\"dataframe\">\n",
       "  <thead>\n",
       "    <tr style=\"text-align: right;\">\n",
       "      <th></th>\n",
       "      <th>Group</th>\n",
       "      <th>Date</th>\n",
       "      <th>Sent</th>\n",
       "      <th>Clicked</th>\n",
       "    </tr>\n",
       "  </thead>\n",
       "  <tbody>\n",
       "    <tr>\n",
       "      <th>0</th>\n",
       "      <td>1</td>\n",
       "      <td>NaN</td>\n",
       "      <td>50</td>\n",
       "      <td>1</td>\n",
       "    </tr>\n",
       "    <tr>\n",
       "      <th>1</th>\n",
       "      <td>1</td>\n",
       "      <td>Oct  2 2017</td>\n",
       "      <td>50</td>\n",
       "      <td>2</td>\n",
       "    </tr>\n",
       "    <tr>\n",
       "      <th>2</th>\n",
       "      <td>1</td>\n",
       "      <td>Oct  3 2017</td>\n",
       "      <td>50</td>\n",
       "      <td>4</td>\n",
       "    </tr>\n",
       "    <tr>\n",
       "      <th>3</th>\n",
       "      <td>1</td>\n",
       "      <td>NaN</td>\n",
       "      <td>50</td>\n",
       "      <td>5</td>\n",
       "    </tr>\n",
       "    <tr>\n",
       "      <th>4</th>\n",
       "      <td>1</td>\n",
       "      <td>Oct  5 2017</td>\n",
       "      <td>50</td>\n",
       "      <td>1</td>\n",
       "    </tr>\n",
       "  </tbody>\n",
       "</table>\n",
       "</div>"
      ],
      "text/plain": [
       "   Group         Date  Sent  Clicked\n",
       "0      1          NaN    50        1\n",
       "1      1  Oct  2 2017    50        2\n",
       "2      1  Oct  3 2017    50        4\n",
       "3      1          NaN    50        5\n",
       "4      1  Oct  5 2017    50        1"
      ]
     },
     "execution_count": 10,
     "metadata": {},
     "output_type": "execute_result"
    }
   ],
   "source": [
    "dfEmails = pd.read_csv(\"data/email.csv\")\n",
    "dfEmails.info()\n",
    "dfEmails.head()"
   ]
  },
  {
   "cell_type": "markdown",
   "metadata": {},
   "source": [
    "**Part A**: State the null and alternate hypotheses that Johnny should test to see if his ad campaign is an improvement over the company's standard mailer with a CTR of $0.05$. "
   ]
  },
  {
   "cell_type": "markdown",
   "metadata": {
    "collapsed": true
   },
   "source": [
    "**Let $\\mu$ be Jonny's CTR from his tests.**\n",
    "$$\n",
    "\\begin{align*}\n",
    "    H_0 &:& \\mu &= 0.05 \\\\\n",
    "    H_1 &:& \\mu &> 0.05\n",
    "\\end{align*}\n",
    "$$"
   ]
  },
  {
   "cell_type": "markdown",
   "metadata": {},
   "source": [
    "**Part B**: Test the hypothesis from **Part A** at the $\\alpha = 0.05$ significance level using a p-value test. Is there sufficient evidence for Johnny to conclude that his ad campaign is an improvement?   "
   ]
  },
  {
   "cell_type": "code",
   "execution_count": 18,
   "metadata": {},
   "outputs": [
    {
     "name": "stdout",
     "output_type": "stream",
     "text": [
      "Score Difference p-value: 0.224365747475\n"
     ]
    }
   ],
   "source": [
    "def p_ctr_compute(df):\n",
    "    j_ctr = np.sum(df['Clicked']) / np.sum(df['Sent'])\n",
    "\n",
    "    z = (j_ctr - 0.05) / np.sqrt((0.05 * (1 - 0.05)) / np.sum(df['Sent']))\n",
    "    pval = 1-stats.norm.cdf(z)\n",
    "    print(\"Score Difference p-value:\", pval)\n",
    "    \n",
    "p_ctr_compute(dfEmails)"
   ]
  },
  {
   "cell_type": "markdown",
   "metadata": {},
   "source": [
    "**Part C**: Bummer, Johnny thinks. This is the part where he decides to resort to some questionable science.  Maybe there is a reasonable subset of the data for which his alternative hypothesis is supported?  Can he find it?  Can he come up for a reasonable justification for why this subset of the data should be considered while the rest should be discarded? \n",
    "\n",
    "Here are the **rules**: Johnny cannot modify the original data (e.g. by adding nonexistent clicks to certain groups or days) because his boss will surely notice.  Instead he needs to find a subset of the data for which his hypothesis is supported by a p-value test at the $\\alpha = 0.05$ significance level _and_ be able to explain to his supervisors why his sub-selection of the data is reasonable.  \n",
    "\n",
    "In addition to your explanation of why your successful subset of the data is potentially reasonable, be sure to thoroughly explain the details of the tests that you perform and show all of your Python computation.  "
   ]
  },
  {
   "cell_type": "markdown",
   "metadata": {},
   "source": [
    "**Since Johnny is likely getting fairly desperate at this point, I'd imagine he'd attempt something like dropping all data points where Clicked = 0. Let's see if that works for him:**"
   ]
  },
  {
   "cell_type": "code",
   "execution_count": 21,
   "metadata": {},
   "outputs": [
    {
     "name": "stdout",
     "output_type": "stream",
     "text": [
      "Score Difference p-value: 0.0336489140453\n"
     ]
    }
   ],
   "source": [
    "p_ctr_compute(dfEmails.loc[dfEmails[\"Clicked\"] != 0])"
   ]
  },
  {
   "cell_type": "markdown",
   "metadata": {},
   "source": [
    "**Woah! A subset that with a high enough proportion! Jonny's might be able to claim that this eliminates fake/old/no-reply email addresses from consideration, but he has a hard sell ahead of him. **"
   ]
  },
  {
   "cell_type": "markdown",
   "metadata": {},
   "source": [
    "### [20 points] Problem 6 - Simple Linear Regression for Gas Mileage \n",
    "***\n",
    "\n",
    "The data in auto.csv contains information on cars from the 1970s and 1980s. In this exercise you will construct a simple linear regression model for the response variable mpg with horsepower as the feature. Load the data into a Pandas DataFrame.    \n"
   ]
  },
  {
   "cell_type": "code",
   "execution_count": 25,
   "metadata": {},
   "outputs": [
    {
     "data": {
      "text/html": [
       "<div>\n",
       "<style>\n",
       "    .dataframe thead tr:only-child th {\n",
       "        text-align: right;\n",
       "    }\n",
       "\n",
       "    .dataframe thead th {\n",
       "        text-align: left;\n",
       "    }\n",
       "\n",
       "    .dataframe tbody tr th {\n",
       "        vertical-align: top;\n",
       "    }\n",
       "</style>\n",
       "<table border=\"1\" class=\"dataframe\">\n",
       "  <thead>\n",
       "    <tr style=\"text-align: right;\">\n",
       "      <th></th>\n",
       "      <th>model</th>\n",
       "      <th>year</th>\n",
       "      <th>mpg</th>\n",
       "      <th>cylinders</th>\n",
       "      <th>horsepower</th>\n",
       "      <th>weight</th>\n",
       "    </tr>\n",
       "  </thead>\n",
       "  <tbody>\n",
       "    <tr>\n",
       "      <th>0</th>\n",
       "      <td>chevrolet chevelle malibu</td>\n",
       "      <td>70</td>\n",
       "      <td>18.0</td>\n",
       "      <td>8</td>\n",
       "      <td>130.0</td>\n",
       "      <td>3504.0</td>\n",
       "    </tr>\n",
       "    <tr>\n",
       "      <th>1</th>\n",
       "      <td>buick skylark 320</td>\n",
       "      <td>70</td>\n",
       "      <td>15.0</td>\n",
       "      <td>8</td>\n",
       "      <td>165.0</td>\n",
       "      <td>3693.0</td>\n",
       "    </tr>\n",
       "    <tr>\n",
       "      <th>2</th>\n",
       "      <td>plymouth satellite</td>\n",
       "      <td>70</td>\n",
       "      <td>18.0</td>\n",
       "      <td>8</td>\n",
       "      <td>150.0</td>\n",
       "      <td>3436.0</td>\n",
       "    </tr>\n",
       "    <tr>\n",
       "      <th>3</th>\n",
       "      <td>amc rebel sst</td>\n",
       "      <td>70</td>\n",
       "      <td>16.0</td>\n",
       "      <td>8</td>\n",
       "      <td>150.0</td>\n",
       "      <td>3433.0</td>\n",
       "    </tr>\n",
       "    <tr>\n",
       "      <th>4</th>\n",
       "      <td>ford torino</td>\n",
       "      <td>70</td>\n",
       "      <td>17.0</td>\n",
       "      <td>8</td>\n",
       "      <td>140.0</td>\n",
       "      <td>3449.0</td>\n",
       "    </tr>\n",
       "  </tbody>\n",
       "</table>\n",
       "</div>"
      ],
      "text/plain": [
       "                       model  year   mpg  cylinders  horsepower  weight\n",
       "0  chevrolet chevelle malibu    70  18.0          8       130.0  3504.0\n",
       "1          buick skylark 320    70  15.0          8       165.0  3693.0\n",
       "2         plymouth satellite    70  18.0          8       150.0  3436.0\n",
       "3              amc rebel sst    70  16.0          8       150.0  3433.0\n",
       "4                ford torino    70  17.0          8       140.0  3449.0"
      ]
     },
     "execution_count": 25,
     "metadata": {},
     "output_type": "execute_result"
    }
   ],
   "source": [
    "dfAuto = pd.read_csv('data/auto.csv')\n",
    "dfAuto.head()"
   ]
  },
  {
   "cell_type": "markdown",
   "metadata": {},
   "source": [
    "**Part A**: Perform a simple linear regression with horsepower as the feature and mpg as the response.  Report the estimated regression model in the form $Y = \\alpha + \\beta x$. Do all computations in Python. "
   ]
  },
  {
   "cell_type": "code",
   "execution_count": 41,
   "metadata": {},
   "outputs": [
    {
     "name": "stdout",
     "output_type": "stream",
     "text": [
      "Y = 39.935861 + -0.157845x\n"
     ]
    }
   ],
   "source": [
    "slope, intercept, r_value, p_value, std_err = stats.linregress(dfAuto[\"horsepower\"], dfAuto[\"mpg\"])\n",
    "print(\"Y = {0:3f} + {1:3f}x\".format(intercept, slope))"
   ]
  },
  {
   "cell_type": "markdown",
   "metadata": {},
   "source": [
    "**Part B**: Make a scatter-plot of the data with horsepower as the feature and mpg as the response and overlay the estimated regression line. \n"
   ]
  },
  {
   "cell_type": "code",
   "execution_count": 44,
   "metadata": {},
   "outputs": [
    {
     "data": {
      "image/png": "[encoded data removed]",
      "text/plain": [
       "<matplotlib.figure.Figure at 0x7fdf6b2b0588>"
      ]
     },
     "metadata": {},
     "output_type": "display_data"
    }
   ],
   "source": [
    "fig, ax = plt.subplots(nrows=1, ncols=1, figsize=(12,8))\n",
    "\n",
    "x = np.linspace(25,250,100) \n",
    "y = intercept + slope * x\n",
    "\n",
    "ax.set_title(\"Horsepower vs MPG\", fontsize=20)\n",
    "ax.set_xlabel(\"Horsepower\", fontsize=16)\n",
    "ax.set_ylabel(\"Miles per gallon\", fontsize=16);\n",
    "ax.scatter(dfAuto[\"horsepower\"], dfAuto[\"mpg\"])\n",
    "ax.plot(x, y, color=\"red\")\n",
    "\n",
    "plt.show()"
   ]
  },
  {
   "cell_type": "markdown",
   "metadata": {},
   "source": [
    "**Part C**: Is the relationship between horsepower and mpg positive or negative? Justify your response. "
   ]
  },
  {
   "cell_type": "markdown",
   "metadata": {
    "collapsed": true
   },
   "source": [
    "**Negative, as the slope is negative.**"
   ]
  },
  {
   "cell_type": "markdown",
   "metadata": {},
   "source": [
    "**Part D**: Find a 95% confidence interval for the slope parameter.  Based on this confidence interval, is there sufficient evidence to believe, at the 95% confidence level, that there is a real relationship between horsepower and mpg? "
   ]
  },
  {
   "cell_type": "code",
   "execution_count": 45,
   "metadata": {},
   "outputs": [
    {
     "name": "stdout",
     "output_type": "stream",
     "text": [
      "[-0.17051700846435688, -0.14517245824295019]\n"
     ]
    }
   ],
   "source": [
    "tv = stats.t.ppf(0.975, len(dfAuto[\"horsepower\"]) - 2)\n",
    "CI = [slope - tv * std_err, slope + tv * std_err]\n",
    "print(CI)"
   ]
  },
  {
   "cell_type": "markdown",
   "metadata": {},
   "source": [
    "**As 0 is nowhere in this convidence interval, we can state that there is a real relationship between horsepower and mpg.**"
   ]
  },
  {
   "cell_type": "markdown",
   "metadata": {},
   "source": [
    "**Part E**: Double-check your result from **Part D** by performing an equivalent hypothesis test.  Be sure to state your null and alternative hypotheses and explain your general methodology.  Do your conclusions agree with those made in **Part D**? "
   ]
  },
  {
   "cell_type": "markdown",
   "metadata": {
    "collapsed": true
   },
   "source": [
    "**We'll use the same hypotheses as stats.linregress:**\n",
    "\n",
    "$$\n",
    "\\begin{align*}\n",
    "    H_0 &:& \\beta &= 0 \\\\\n",
    "    H_1 &:& \\beta &\\neq 0\n",
    "\\end{align*}\n",
    "$$"
   ]
  },
  {
   "cell_type": "code",
   "execution_count": 47,
   "metadata": {},
   "outputs": [
    {
     "name": "stdout",
     "output_type": "stream",
     "text": [
      "7.0319890294e-81\n"
     ]
    }
   ],
   "source": [
    "print(p_value)"
   ]
  },
  {
   "cell_type": "markdown",
   "metadata": {},
   "source": [
    "**As we can see, this is incredibly low. We can state that a a signifigance level of at _least_ $\\alpha = 0.05$, there is a real relationship between horsepower and miles per gallon.**"
   ]
  },
  {
   "cell_type": "markdown",
   "metadata": {},
   "source": [
    "**Part F**: What gas mileage would your simple linear regression model predict for a car with a horsepower of $97$? "
   ]
  },
  {
   "cell_type": "code",
   "execution_count": 48,
   "metadata": {},
   "outputs": [
    {
     "data": {
      "text/plain": [
       "24.624921885866058"
      ]
     },
     "execution_count": 48,
     "metadata": {},
     "output_type": "execute_result"
    }
   ],
   "source": [
    "intercept + slope * 97"
   ]
  }
 ],
 "metadata": {
  "kernelspec": {
   "display_name": "Python 3",
   "language": "python",
   "name": "python3"
  },
  "language_info": {
   "codemirror_mode": {
    "name": "ipython",
    "version": 3
   },
   "file_extension": ".py",
   "mimetype": "text/x-python",
   "name": "python",
   "nbconvert_exporter": "python",
   "pygments_lexer": "ipython3",
   "version": "3.6.3"
  }
 },
 "nbformat": 4,
 "nbformat_minor": 2
}
